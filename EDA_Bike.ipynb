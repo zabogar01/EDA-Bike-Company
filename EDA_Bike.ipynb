{
 "cells": [
  {
   "cell_type": "code",
   "execution_count": 2,
   "metadata": {},
   "outputs": [],
   "source": [
    "import numpy as np\n",
    "import pandas as pd\n",
    "import matplotlib.pyplot as plt\n",
    "import seaborn as sns\n",
    "from geopy.distance import geodesic"
   ]
  },
  {
   "cell_type": "code",
   "execution_count": 2,
   "metadata": {},
   "outputs": [],
   "source": [
    "df = pd.read_csv('bluebike.csv')"
   ]
  },
  {
   "cell_type": "markdown",
   "metadata": {},
   "source": [
    "link: https://www.kaggle.com/jackdaoud/bluebikes-in-boston\n",
    "\n",
    "data for 2019 only"
   ]
  },
  {
   "cell_type": "code",
   "execution_count": 3,
   "metadata": {},
   "outputs": [
    {
     "data": {
      "text/html": [
       "<div>\n",
       "<style scoped>\n",
       "    .dataframe tbody tr th:only-of-type {\n",
       "        vertical-align: middle;\n",
       "    }\n",
       "\n",
       "    .dataframe tbody tr th {\n",
       "        vertical-align: top;\n",
       "    }\n",
       "\n",
       "    .dataframe thead th {\n",
       "        text-align: right;\n",
       "    }\n",
       "</style>\n",
       "<table border=\"1\" class=\"dataframe\">\n",
       "  <thead>\n",
       "    <tr style=\"text-align: right;\">\n",
       "      <th></th>\n",
       "      <th>tripduration</th>\n",
       "      <th>starttime</th>\n",
       "      <th>stoptime</th>\n",
       "      <th>start station id</th>\n",
       "      <th>start station name</th>\n",
       "      <th>start station latitude</th>\n",
       "      <th>start station longitude</th>\n",
       "      <th>end station id</th>\n",
       "      <th>end station name</th>\n",
       "      <th>end station latitude</th>\n",
       "      <th>end station longitude</th>\n",
       "      <th>bikeid</th>\n",
       "      <th>usertype</th>\n",
       "      <th>birth year</th>\n",
       "      <th>gender</th>\n",
       "      <th>year</th>\n",
       "      <th>month</th>\n",
       "    </tr>\n",
       "  </thead>\n",
       "  <tbody>\n",
       "    <tr>\n",
       "      <th>0</th>\n",
       "      <td>790</td>\n",
       "      <td>2019-12-01 00:01:25.3240</td>\n",
       "      <td>2019-12-01 00:14:35.3350</td>\n",
       "      <td>370</td>\n",
       "      <td>Dartmouth St at Newbury St</td>\n",
       "      <td>42.350961</td>\n",
       "      <td>-71.077828</td>\n",
       "      <td>33</td>\n",
       "      <td>Kenmore Square</td>\n",
       "      <td>42.348706</td>\n",
       "      <td>-71.097009</td>\n",
       "      <td>5133</td>\n",
       "      <td>Subscriber</td>\n",
       "      <td>1950</td>\n",
       "      <td>1</td>\n",
       "      <td>2019</td>\n",
       "      <td>12</td>\n",
       "    </tr>\n",
       "    <tr>\n",
       "      <th>1</th>\n",
       "      <td>166</td>\n",
       "      <td>2019-12-01 00:05:42.8610</td>\n",
       "      <td>2019-12-01 00:08:29.3830</td>\n",
       "      <td>80</td>\n",
       "      <td>MIT Stata Center at Vassar St / Main St</td>\n",
       "      <td>42.362131</td>\n",
       "      <td>-71.091156</td>\n",
       "      <td>67</td>\n",
       "      <td>MIT at Mass Ave / Amherst St</td>\n",
       "      <td>42.358100</td>\n",
       "      <td>-71.093198</td>\n",
       "      <td>2653</td>\n",
       "      <td>Subscriber</td>\n",
       "      <td>1993</td>\n",
       "      <td>1</td>\n",
       "      <td>2019</td>\n",
       "      <td>12</td>\n",
       "    </tr>\n",
       "    <tr>\n",
       "      <th>2</th>\n",
       "      <td>323</td>\n",
       "      <td>2019-12-01 00:08:28.5560</td>\n",
       "      <td>2019-12-01 00:13:52.4340</td>\n",
       "      <td>381</td>\n",
       "      <td>Inman Square at Springfield St.</td>\n",
       "      <td>42.374384</td>\n",
       "      <td>-71.100157</td>\n",
       "      <td>221</td>\n",
       "      <td>Verizon Innovation Hub 10 Ware Street</td>\n",
       "      <td>42.372509</td>\n",
       "      <td>-71.113054</td>\n",
       "      <td>4875</td>\n",
       "      <td>Subscriber</td>\n",
       "      <td>1992</td>\n",
       "      <td>1</td>\n",
       "      <td>2019</td>\n",
       "      <td>12</td>\n",
       "    </tr>\n",
       "    <tr>\n",
       "      <th>3</th>\n",
       "      <td>709</td>\n",
       "      <td>2019-12-01 00:08:38.5970</td>\n",
       "      <td>2019-12-01 00:20:27.6470</td>\n",
       "      <td>185</td>\n",
       "      <td>Third at Binney</td>\n",
       "      <td>42.365445</td>\n",
       "      <td>-71.082771</td>\n",
       "      <td>184</td>\n",
       "      <td>Sidney Research Campus/ Erie Street at Waverly</td>\n",
       "      <td>42.357753</td>\n",
       "      <td>-71.103934</td>\n",
       "      <td>2116</td>\n",
       "      <td>Subscriber</td>\n",
       "      <td>1997</td>\n",
       "      <td>1</td>\n",
       "      <td>2019</td>\n",
       "      <td>12</td>\n",
       "    </tr>\n",
       "    <tr>\n",
       "      <th>4</th>\n",
       "      <td>332</td>\n",
       "      <td>2019-12-01 00:10:08.8160</td>\n",
       "      <td>2019-12-01 00:15:41.0510</td>\n",
       "      <td>221</td>\n",
       "      <td>Verizon Innovation Hub 10 Ware Street</td>\n",
       "      <td>42.372509</td>\n",
       "      <td>-71.113054</td>\n",
       "      <td>89</td>\n",
       "      <td>Harvard Law School at Mass Ave / Jarvis St</td>\n",
       "      <td>42.379011</td>\n",
       "      <td>-71.119945</td>\n",
       "      <td>6156</td>\n",
       "      <td>Subscriber</td>\n",
       "      <td>1985</td>\n",
       "      <td>1</td>\n",
       "      <td>2019</td>\n",
       "      <td>12</td>\n",
       "    </tr>\n",
       "  </tbody>\n",
       "</table>\n",
       "</div>"
      ],
      "text/plain": [
       "   tripduration                 starttime                  stoptime  \\\n",
       "0           790  2019-12-01 00:01:25.3240  2019-12-01 00:14:35.3350   \n",
       "1           166  2019-12-01 00:05:42.8610  2019-12-01 00:08:29.3830   \n",
       "2           323  2019-12-01 00:08:28.5560  2019-12-01 00:13:52.4340   \n",
       "3           709  2019-12-01 00:08:38.5970  2019-12-01 00:20:27.6470   \n",
       "4           332  2019-12-01 00:10:08.8160  2019-12-01 00:15:41.0510   \n",
       "\n",
       "   start station id                       start station name  \\\n",
       "0               370               Dartmouth St at Newbury St   \n",
       "1                80  MIT Stata Center at Vassar St / Main St   \n",
       "2               381          Inman Square at Springfield St.   \n",
       "3               185                          Third at Binney   \n",
       "4               221    Verizon Innovation Hub 10 Ware Street   \n",
       "\n",
       "   start station latitude  start station longitude  end station id  \\\n",
       "0               42.350961               -71.077828              33   \n",
       "1               42.362131               -71.091156              67   \n",
       "2               42.374384               -71.100157             221   \n",
       "3               42.365445               -71.082771             184   \n",
       "4               42.372509               -71.113054              89   \n",
       "\n",
       "                                 end station name  end station latitude  \\\n",
       "0                                  Kenmore Square             42.348706   \n",
       "1                    MIT at Mass Ave / Amherst St             42.358100   \n",
       "2           Verizon Innovation Hub 10 Ware Street             42.372509   \n",
       "3  Sidney Research Campus/ Erie Street at Waverly             42.357753   \n",
       "4      Harvard Law School at Mass Ave / Jarvis St             42.379011   \n",
       "\n",
       "   end station longitude  bikeid    usertype  birth year  gender  year  month  \n",
       "0             -71.097009    5133  Subscriber        1950       1  2019     12  \n",
       "1             -71.093198    2653  Subscriber        1993       1  2019     12  \n",
       "2             -71.113054    4875  Subscriber        1992       1  2019     12  \n",
       "3             -71.103934    2116  Subscriber        1997       1  2019     12  \n",
       "4             -71.119945    6156  Subscriber        1985       1  2019     12  "
      ]
     },
     "execution_count": 3,
     "metadata": {},
     "output_type": "execute_result"
    }
   ],
   "source": [
    "df.head()"
   ]
  },
  {
   "cell_type": "code",
   "execution_count": 4,
   "metadata": {},
   "outputs": [],
   "source": [
    "#Drop the station id\n",
    "df.drop('start station id',axis=1,inplace=True)\n",
    "df.drop('end station id',axis=1,inplace=True)"
   ]
  },
  {
   "cell_type": "code",
   "execution_count": 5,
   "metadata": {},
   "outputs": [
    {
     "name": "stdout",
     "output_type": "stream",
     "text": [
      "<class 'pandas.core.frame.DataFrame'>\n",
      "RangeIndex: 2522771 entries, 0 to 2522770\n",
      "Data columns (total 15 columns):\n",
      "tripduration               int64\n",
      "starttime                  object\n",
      "stoptime                   object\n",
      "start station name         object\n",
      "start station latitude     float64\n",
      "start station longitude    float64\n",
      "end station name           object\n",
      "end station latitude       float64\n",
      "end station longitude      float64\n",
      "bikeid                     int64\n",
      "usertype                   object\n",
      "birth year                 int64\n",
      "gender                     int64\n",
      "year                       int64\n",
      "month                      int64\n",
      "dtypes: float64(4), int64(6), object(5)\n",
      "memory usage: 288.7+ MB\n"
     ]
    }
   ],
   "source": [
    "#Checking data type, null, and total\n",
    "df.info()"
   ]
  },
  {
   "cell_type": "code",
   "execution_count": null,
   "metadata": {},
   "outputs": [],
   "source": [
    "df.describe()"
   ]
  },
  {
   "cell_type": "code",
   "execution_count": 11,
   "metadata": {},
   "outputs": [
    {
     "data": {
      "text/plain": [
       "tripduration               0\n",
       "starttime                  0\n",
       "stoptime                   0\n",
       "start station name         0\n",
       "start station latitude     0\n",
       "start station longitude    0\n",
       "end station name           0\n",
       "end station latitude       0\n",
       "end station longitude      0\n",
       "bikeid                     0\n",
       "usertype                   0\n",
       "birth year                 0\n",
       "gender                     0\n",
       "year                       0\n",
       "month                      0\n",
       "dtype: int64"
      ]
     },
     "execution_count": 11,
     "metadata": {},
     "output_type": "execute_result"
    }
   ],
   "source": [
    "# Check for null data\n",
    "df.isnull().sum()"
   ]
  },
  {
   "cell_type": "code",
   "execution_count": null,
   "metadata": {},
   "outputs": [],
   "source": [
    "dfhead=df.head(5)"
   ]
  },
  {
   "cell_type": "code",
   "execution_count": null,
   "metadata": {},
   "outputs": [],
   "source": []
  },
  {
   "cell_type": "code",
   "execution_count": null,
   "metadata": {},
   "outputs": [],
   "source": [
    "# Alt 1 for calculate distance\n",
    "\n",
    "def distance(x):\n",
    "    l1 = (x['start station latitude'],x['start station longitude'])\n",
    "    l2 = (x['end station latitude'],x['end station longitude'])\n",
    "    \n",
    "    return geodesic(l1,l2).km\n",
    "\n",
    "df['distance']=df.apply(distance,axis=1)\n",
    "\n",
    "# This takes too long so i will be using alt 2"
   ]
  },
  {
   "cell_type": "code",
   "execution_count": 8,
   "metadata": {},
   "outputs": [],
   "source": []
  },
  {
   "cell_type": "code",
   "execution_count": 12,
   "metadata": {},
   "outputs": [],
   "source": [
    "# Alt 2 for calculate distance\n",
    "\n",
    "def dist_from_coordinates(lat1, lon1, lat2, lon2):\n",
    "    R = 6371  # Earth radius in km\n",
    "\n",
    "    #conversion to radians\n",
    "    d_lat = np.radians(lat2-lat1)\n",
    "    d_lon = np.radians(lon2-lon1)\n",
    "\n",
    "    r_lat1 = np.radians(lat1)\n",
    "    r_lat2 = np.radians(lat2)\n",
    "\n",
    "    #haversine formula\n",
    "    a = np.sin(d_lat/2.) **2 + np.cos(r_lat1) * np.cos(r_lat2) * np.sin(d_lon/2.)**2\n",
    "\n",
    "    haversine = 2 * R * np.arcsin(np.sqrt(a))\n",
    "\n",
    "    return haversine\n",
    "\n",
    "new_column = []                    #empty column for distance\n",
    "for index,row in df.iterrows():\n",
    "    lat1 = row['start station latitude'] #first row of location.lat column here\n",
    "    lon1 = row['start station longitude'] #first row of location.long column here\n",
    "    lat2 = row['end station latitude'] #second row of location.lat column here\n",
    "    lon2 = row['end station longitude'] #second row of location.long column here\n",
    "    value = dist_from_coordinates(lat1, lon1, lat2, lon2)  #get the distance\n",
    "    new_column.append(value)   #append the empty list with distance values\n",
    "\n",
    "df.insert(1,\"distance\",new_column)"
   ]
  },
  {
   "cell_type": "code",
   "execution_count": 13,
   "metadata": {},
   "outputs": [
    {
     "data": {
      "text/html": [
       "<div>\n",
       "<style scoped>\n",
       "    .dataframe tbody tr th:only-of-type {\n",
       "        vertical-align: middle;\n",
       "    }\n",
       "\n",
       "    .dataframe tbody tr th {\n",
       "        vertical-align: top;\n",
       "    }\n",
       "\n",
       "    .dataframe thead th {\n",
       "        text-align: right;\n",
       "    }\n",
       "</style>\n",
       "<table border=\"1\" class=\"dataframe\">\n",
       "  <thead>\n",
       "    <tr style=\"text-align: right;\">\n",
       "      <th></th>\n",
       "      <th>tripduration</th>\n",
       "      <th>distance</th>\n",
       "      <th>starttime</th>\n",
       "      <th>stoptime</th>\n",
       "      <th>start station name</th>\n",
       "      <th>start station latitude</th>\n",
       "      <th>start station longitude</th>\n",
       "      <th>end station name</th>\n",
       "      <th>end station latitude</th>\n",
       "      <th>end station longitude</th>\n",
       "      <th>bikeid</th>\n",
       "      <th>usertype</th>\n",
       "      <th>birth year</th>\n",
       "      <th>gender</th>\n",
       "      <th>year</th>\n",
       "      <th>month</th>\n",
       "    </tr>\n",
       "  </thead>\n",
       "  <tbody>\n",
       "    <tr>\n",
       "      <th>0</th>\n",
       "      <td>790</td>\n",
       "      <td>1.596076</td>\n",
       "      <td>2019-12-01 00:01:25.3240</td>\n",
       "      <td>2019-12-01 00:14:35.3350</td>\n",
       "      <td>Dartmouth St at Newbury St</td>\n",
       "      <td>42.350961</td>\n",
       "      <td>-71.077828</td>\n",
       "      <td>Kenmore Square</td>\n",
       "      <td>42.348706</td>\n",
       "      <td>-71.097009</td>\n",
       "      <td>5133</td>\n",
       "      <td>Subscriber</td>\n",
       "      <td>1950</td>\n",
       "      <td>1</td>\n",
       "      <td>2019</td>\n",
       "      <td>12</td>\n",
       "    </tr>\n",
       "    <tr>\n",
       "      <th>1</th>\n",
       "      <td>166</td>\n",
       "      <td>0.478624</td>\n",
       "      <td>2019-12-01 00:05:42.8610</td>\n",
       "      <td>2019-12-01 00:08:29.3830</td>\n",
       "      <td>MIT Stata Center at Vassar St / Main St</td>\n",
       "      <td>42.362131</td>\n",
       "      <td>-71.091156</td>\n",
       "      <td>MIT at Mass Ave / Amherst St</td>\n",
       "      <td>42.358100</td>\n",
       "      <td>-71.093198</td>\n",
       "      <td>2653</td>\n",
       "      <td>Subscriber</td>\n",
       "      <td>1993</td>\n",
       "      <td>1</td>\n",
       "      <td>2019</td>\n",
       "      <td>12</td>\n",
       "    </tr>\n",
       "    <tr>\n",
       "      <th>2</th>\n",
       "      <td>323</td>\n",
       "      <td>1.079709</td>\n",
       "      <td>2019-12-01 00:08:28.5560</td>\n",
       "      <td>2019-12-01 00:13:52.4340</td>\n",
       "      <td>Inman Square at Springfield St.</td>\n",
       "      <td>42.374384</td>\n",
       "      <td>-71.100157</td>\n",
       "      <td>Verizon Innovation Hub 10 Ware Street</td>\n",
       "      <td>42.372509</td>\n",
       "      <td>-71.113054</td>\n",
       "      <td>4875</td>\n",
       "      <td>Subscriber</td>\n",
       "      <td>1992</td>\n",
       "      <td>1</td>\n",
       "      <td>2019</td>\n",
       "      <td>12</td>\n",
       "    </tr>\n",
       "    <tr>\n",
       "      <th>3</th>\n",
       "      <td>709</td>\n",
       "      <td>1.937748</td>\n",
       "      <td>2019-12-01 00:08:38.5970</td>\n",
       "      <td>2019-12-01 00:20:27.6470</td>\n",
       "      <td>Third at Binney</td>\n",
       "      <td>42.365445</td>\n",
       "      <td>-71.082771</td>\n",
       "      <td>Sidney Research Campus/ Erie Street at Waverly</td>\n",
       "      <td>42.357753</td>\n",
       "      <td>-71.103934</td>\n",
       "      <td>2116</td>\n",
       "      <td>Subscriber</td>\n",
       "      <td>1997</td>\n",
       "      <td>1</td>\n",
       "      <td>2019</td>\n",
       "      <td>12</td>\n",
       "    </tr>\n",
       "    <tr>\n",
       "      <th>4</th>\n",
       "      <td>332</td>\n",
       "      <td>0.918276</td>\n",
       "      <td>2019-12-01 00:10:08.8160</td>\n",
       "      <td>2019-12-01 00:15:41.0510</td>\n",
       "      <td>Verizon Innovation Hub 10 Ware Street</td>\n",
       "      <td>42.372509</td>\n",
       "      <td>-71.113054</td>\n",
       "      <td>Harvard Law School at Mass Ave / Jarvis St</td>\n",
       "      <td>42.379011</td>\n",
       "      <td>-71.119945</td>\n",
       "      <td>6156</td>\n",
       "      <td>Subscriber</td>\n",
       "      <td>1985</td>\n",
       "      <td>1</td>\n",
       "      <td>2019</td>\n",
       "      <td>12</td>\n",
       "    </tr>\n",
       "  </tbody>\n",
       "</table>\n",
       "</div>"
      ],
      "text/plain": [
       "   tripduration  distance                 starttime                  stoptime  \\\n",
       "0           790  1.596076  2019-12-01 00:01:25.3240  2019-12-01 00:14:35.3350   \n",
       "1           166  0.478624  2019-12-01 00:05:42.8610  2019-12-01 00:08:29.3830   \n",
       "2           323  1.079709  2019-12-01 00:08:28.5560  2019-12-01 00:13:52.4340   \n",
       "3           709  1.937748  2019-12-01 00:08:38.5970  2019-12-01 00:20:27.6470   \n",
       "4           332  0.918276  2019-12-01 00:10:08.8160  2019-12-01 00:15:41.0510   \n",
       "\n",
       "                        start station name  start station latitude  \\\n",
       "0               Dartmouth St at Newbury St               42.350961   \n",
       "1  MIT Stata Center at Vassar St / Main St               42.362131   \n",
       "2          Inman Square at Springfield St.               42.374384   \n",
       "3                          Third at Binney               42.365445   \n",
       "4    Verizon Innovation Hub 10 Ware Street               42.372509   \n",
       "\n",
       "   start station longitude                                end station name  \\\n",
       "0               -71.077828                                  Kenmore Square   \n",
       "1               -71.091156                    MIT at Mass Ave / Amherst St   \n",
       "2               -71.100157           Verizon Innovation Hub 10 Ware Street   \n",
       "3               -71.082771  Sidney Research Campus/ Erie Street at Waverly   \n",
       "4               -71.113054      Harvard Law School at Mass Ave / Jarvis St   \n",
       "\n",
       "   end station latitude  end station longitude  bikeid    usertype  \\\n",
       "0             42.348706             -71.097009    5133  Subscriber   \n",
       "1             42.358100             -71.093198    2653  Subscriber   \n",
       "2             42.372509             -71.113054    4875  Subscriber   \n",
       "3             42.357753             -71.103934    2116  Subscriber   \n",
       "4             42.379011             -71.119945    6156  Subscriber   \n",
       "\n",
       "   birth year  gender  year  month  \n",
       "0        1950       1  2019     12  \n",
       "1        1993       1  2019     12  \n",
       "2        1992       1  2019     12  \n",
       "3        1997       1  2019     12  \n",
       "4        1985       1  2019     12  "
      ]
     },
     "execution_count": 13,
     "metadata": {},
     "output_type": "execute_result"
    }
   ],
   "source": [
    "df.head()"
   ]
  },
  {
   "cell_type": "code",
   "execution_count": 14,
   "metadata": {},
   "outputs": [],
   "source": [
    "df['distance'] = df['distance'].round(3)"
   ]
  },
  {
   "cell_type": "code",
   "execution_count": 19,
   "metadata": {},
   "outputs": [
    {
     "data": {
      "text/html": [
       "<div>\n",
       "<style scoped>\n",
       "    .dataframe tbody tr th:only-of-type {\n",
       "        vertical-align: middle;\n",
       "    }\n",
       "\n",
       "    .dataframe tbody tr th {\n",
       "        vertical-align: top;\n",
       "    }\n",
       "\n",
       "    .dataframe thead th {\n",
       "        text-align: right;\n",
       "    }\n",
       "</style>\n",
       "<table border=\"1\" class=\"dataframe\">\n",
       "  <thead>\n",
       "    <tr style=\"text-align: right;\">\n",
       "      <th></th>\n",
       "      <th>tripduration</th>\n",
       "      <th>distance</th>\n",
       "      <th>start station latitude</th>\n",
       "      <th>start station longitude</th>\n",
       "      <th>end station latitude</th>\n",
       "      <th>end station longitude</th>\n",
       "      <th>bikeid</th>\n",
       "      <th>birth year</th>\n",
       "      <th>gender</th>\n",
       "      <th>year</th>\n",
       "      <th>month</th>\n",
       "    </tr>\n",
       "  </thead>\n",
       "  <tbody>\n",
       "    <tr>\n",
       "      <th>count</th>\n",
       "      <td>2.522771e+06</td>\n",
       "      <td>2.522771e+06</td>\n",
       "      <td>2.522771e+06</td>\n",
       "      <td>2.522771e+06</td>\n",
       "      <td>2.522771e+06</td>\n",
       "      <td>2.522771e+06</td>\n",
       "      <td>2.522771e+06</td>\n",
       "      <td>2.522771e+06</td>\n",
       "      <td>2.522771e+06</td>\n",
       "      <td>2522771.0</td>\n",
       "      <td>2.522771e+06</td>\n",
       "    </tr>\n",
       "    <tr>\n",
       "      <th>mean</th>\n",
       "      <td>2.178407e+03</td>\n",
       "      <td>2.007465e+00</td>\n",
       "      <td>4.235746e+01</td>\n",
       "      <td>-7.108794e+01</td>\n",
       "      <td>4.235732e+01</td>\n",
       "      <td>-7.108749e+01</td>\n",
       "      <td>3.637649e+03</td>\n",
       "      <td>1.984724e+03</td>\n",
       "      <td>1.124730e+00</td>\n",
       "      <td>2019.0</td>\n",
       "      <td>7.298523e+00</td>\n",
       "    </tr>\n",
       "    <tr>\n",
       "      <th>std</th>\n",
       "      <td>1.098031e+05</td>\n",
       "      <td>1.691030e+01</td>\n",
       "      <td>5.584549e-02</td>\n",
       "      <td>9.302137e-02</td>\n",
       "      <td>7.722553e-02</td>\n",
       "      <td>1.291085e-01</td>\n",
       "      <td>1.287294e+03</td>\n",
       "      <td>1.154858e+01</td>\n",
       "      <td>5.738727e-01</td>\n",
       "      <td>0.0</td>\n",
       "      <td>2.708278e+00</td>\n",
       "    </tr>\n",
       "    <tr>\n",
       "      <th>min</th>\n",
       "      <td>6.100000e+01</td>\n",
       "      <td>0.000000e+00</td>\n",
       "      <td>0.000000e+00</td>\n",
       "      <td>-7.116649e+01</td>\n",
       "      <td>0.000000e+00</td>\n",
       "      <td>-7.116649e+01</td>\n",
       "      <td>1.000000e+00</td>\n",
       "      <td>1.886000e+03</td>\n",
       "      <td>0.000000e+00</td>\n",
       "      <td>2019.0</td>\n",
       "      <td>1.000000e+00</td>\n",
       "    </tr>\n",
       "    <tr>\n",
       "      <th>25%</th>\n",
       "      <td>4.180000e+02</td>\n",
       "      <td>9.830000e-01</td>\n",
       "      <td>4.234871e+01</td>\n",
       "      <td>-7.110441e+01</td>\n",
       "      <td>4.234871e+01</td>\n",
       "      <td>-7.110441e+01</td>\n",
       "      <td>2.745000e+03</td>\n",
       "      <td>1.977000e+03</td>\n",
       "      <td>1.000000e+00</td>\n",
       "      <td>2019.0</td>\n",
       "      <td>5.000000e+00</td>\n",
       "    </tr>\n",
       "    <tr>\n",
       "      <th>50%</th>\n",
       "      <td>7.070000e+02</td>\n",
       "      <td>1.638000e+00</td>\n",
       "      <td>4.235810e+01</td>\n",
       "      <td>-7.108981e+01</td>\n",
       "      <td>4.235810e+01</td>\n",
       "      <td>-7.108822e+01</td>\n",
       "      <td>3.670000e+03</td>\n",
       "      <td>1.989000e+03</td>\n",
       "      <td>1.000000e+00</td>\n",
       "      <td>2019.0</td>\n",
       "      <td>8.000000e+00</td>\n",
       "    </tr>\n",
       "    <tr>\n",
       "      <th>75%</th>\n",
       "      <td>1.185000e+03</td>\n",
       "      <td>2.645000e+00</td>\n",
       "      <td>4.236599e+01</td>\n",
       "      <td>-7.106892e+01</td>\n",
       "      <td>4.236599e+01</td>\n",
       "      <td>-7.106781e+01</td>\n",
       "      <td>4.497000e+03</td>\n",
       "      <td>1.994000e+03</td>\n",
       "      <td>1.000000e+00</td>\n",
       "      <td>2019.0</td>\n",
       "      <td>9.000000e+00</td>\n",
       "    </tr>\n",
       "    <tr>\n",
       "      <th>max</th>\n",
       "      <td>4.256714e+07</td>\n",
       "      <td>8.469404e+03</td>\n",
       "      <td>4.241480e+01</td>\n",
       "      <td>0.000000e+00</td>\n",
       "      <td>4.241480e+01</td>\n",
       "      <td>0.000000e+00</td>\n",
       "      <td>6.173000e+03</td>\n",
       "      <td>2.003000e+03</td>\n",
       "      <td>2.000000e+00</td>\n",
       "      <td>2019.0</td>\n",
       "      <td>1.200000e+01</td>\n",
       "    </tr>\n",
       "  </tbody>\n",
       "</table>\n",
       "</div>"
      ],
      "text/plain": [
       "       tripduration      distance  start station latitude  \\\n",
       "count  2.522771e+06  2.522771e+06            2.522771e+06   \n",
       "mean   2.178407e+03  2.007465e+00            4.235746e+01   \n",
       "std    1.098031e+05  1.691030e+01            5.584549e-02   \n",
       "min    6.100000e+01  0.000000e+00            0.000000e+00   \n",
       "25%    4.180000e+02  9.830000e-01            4.234871e+01   \n",
       "50%    7.070000e+02  1.638000e+00            4.235810e+01   \n",
       "75%    1.185000e+03  2.645000e+00            4.236599e+01   \n",
       "max    4.256714e+07  8.469404e+03            4.241480e+01   \n",
       "\n",
       "       start station longitude  end station latitude  end station longitude  \\\n",
       "count             2.522771e+06          2.522771e+06           2.522771e+06   \n",
       "mean             -7.108794e+01          4.235732e+01          -7.108749e+01   \n",
       "std               9.302137e-02          7.722553e-02           1.291085e-01   \n",
       "min              -7.116649e+01          0.000000e+00          -7.116649e+01   \n",
       "25%              -7.110441e+01          4.234871e+01          -7.110441e+01   \n",
       "50%              -7.108981e+01          4.235810e+01          -7.108822e+01   \n",
       "75%              -7.106892e+01          4.236599e+01          -7.106781e+01   \n",
       "max               0.000000e+00          4.241480e+01           0.000000e+00   \n",
       "\n",
       "             bikeid    birth year        gender       year         month  \n",
       "count  2.522771e+06  2.522771e+06  2.522771e+06  2522771.0  2.522771e+06  \n",
       "mean   3.637649e+03  1.984724e+03  1.124730e+00     2019.0  7.298523e+00  \n",
       "std    1.287294e+03  1.154858e+01  5.738727e-01        0.0  2.708278e+00  \n",
       "min    1.000000e+00  1.886000e+03  0.000000e+00     2019.0  1.000000e+00  \n",
       "25%    2.745000e+03  1.977000e+03  1.000000e+00     2019.0  5.000000e+00  \n",
       "50%    3.670000e+03  1.989000e+03  1.000000e+00     2019.0  8.000000e+00  \n",
       "75%    4.497000e+03  1.994000e+03  1.000000e+00     2019.0  9.000000e+00  \n",
       "max    6.173000e+03  2.003000e+03  2.000000e+00     2019.0  1.200000e+01  "
      ]
     },
     "execution_count": 19,
     "metadata": {},
     "output_type": "execute_result"
    }
   ],
   "source": [
    "df.describe()"
   ]
  },
  {
   "cell_type": "code",
   "execution_count": 20,
   "metadata": {},
   "outputs": [],
   "source": [
    "# drop latitude and longitude since we've got the distance and wont be using it anymore\n",
    "\n",
    "df.drop('start station latitude',axis=1,inplace=True)\n",
    "df.drop('start station longitude',axis=1,inplace=True)\n",
    "df.drop('end station latitude',axis=1,inplace=True)\n",
    "df.drop('end station longitude',axis=1,inplace=True)"
   ]
  },
  {
   "cell_type": "code",
   "execution_count": 21,
   "metadata": {},
   "outputs": [
    {
     "data": {
      "text/html": [
       "<div>\n",
       "<style scoped>\n",
       "    .dataframe tbody tr th:only-of-type {\n",
       "        vertical-align: middle;\n",
       "    }\n",
       "\n",
       "    .dataframe tbody tr th {\n",
       "        vertical-align: top;\n",
       "    }\n",
       "\n",
       "    .dataframe thead th {\n",
       "        text-align: right;\n",
       "    }\n",
       "</style>\n",
       "<table border=\"1\" class=\"dataframe\">\n",
       "  <thead>\n",
       "    <tr style=\"text-align: right;\">\n",
       "      <th></th>\n",
       "      <th>tripduration</th>\n",
       "      <th>distance</th>\n",
       "      <th>starttime</th>\n",
       "      <th>stoptime</th>\n",
       "      <th>start station name</th>\n",
       "      <th>end station name</th>\n",
       "      <th>bikeid</th>\n",
       "      <th>usertype</th>\n",
       "      <th>birth year</th>\n",
       "      <th>gender</th>\n",
       "      <th>year</th>\n",
       "      <th>month</th>\n",
       "    </tr>\n",
       "  </thead>\n",
       "  <tbody>\n",
       "    <tr>\n",
       "      <th>0</th>\n",
       "      <td>790</td>\n",
       "      <td>1.596</td>\n",
       "      <td>2019-12-01 00:01:25.3240</td>\n",
       "      <td>2019-12-01 00:14:35.3350</td>\n",
       "      <td>Dartmouth St at Newbury St</td>\n",
       "      <td>Kenmore Square</td>\n",
       "      <td>5133</td>\n",
       "      <td>Subscriber</td>\n",
       "      <td>1950</td>\n",
       "      <td>1</td>\n",
       "      <td>2019</td>\n",
       "      <td>12</td>\n",
       "    </tr>\n",
       "    <tr>\n",
       "      <th>1</th>\n",
       "      <td>166</td>\n",
       "      <td>0.479</td>\n",
       "      <td>2019-12-01 00:05:42.8610</td>\n",
       "      <td>2019-12-01 00:08:29.3830</td>\n",
       "      <td>MIT Stata Center at Vassar St / Main St</td>\n",
       "      <td>MIT at Mass Ave / Amherst St</td>\n",
       "      <td>2653</td>\n",
       "      <td>Subscriber</td>\n",
       "      <td>1993</td>\n",
       "      <td>1</td>\n",
       "      <td>2019</td>\n",
       "      <td>12</td>\n",
       "    </tr>\n",
       "    <tr>\n",
       "      <th>2</th>\n",
       "      <td>323</td>\n",
       "      <td>1.080</td>\n",
       "      <td>2019-12-01 00:08:28.5560</td>\n",
       "      <td>2019-12-01 00:13:52.4340</td>\n",
       "      <td>Inman Square at Springfield St.</td>\n",
       "      <td>Verizon Innovation Hub 10 Ware Street</td>\n",
       "      <td>4875</td>\n",
       "      <td>Subscriber</td>\n",
       "      <td>1992</td>\n",
       "      <td>1</td>\n",
       "      <td>2019</td>\n",
       "      <td>12</td>\n",
       "    </tr>\n",
       "    <tr>\n",
       "      <th>3</th>\n",
       "      <td>709</td>\n",
       "      <td>1.938</td>\n",
       "      <td>2019-12-01 00:08:38.5970</td>\n",
       "      <td>2019-12-01 00:20:27.6470</td>\n",
       "      <td>Third at Binney</td>\n",
       "      <td>Sidney Research Campus/ Erie Street at Waverly</td>\n",
       "      <td>2116</td>\n",
       "      <td>Subscriber</td>\n",
       "      <td>1997</td>\n",
       "      <td>1</td>\n",
       "      <td>2019</td>\n",
       "      <td>12</td>\n",
       "    </tr>\n",
       "    <tr>\n",
       "      <th>4</th>\n",
       "      <td>332</td>\n",
       "      <td>0.918</td>\n",
       "      <td>2019-12-01 00:10:08.8160</td>\n",
       "      <td>2019-12-01 00:15:41.0510</td>\n",
       "      <td>Verizon Innovation Hub 10 Ware Street</td>\n",
       "      <td>Harvard Law School at Mass Ave / Jarvis St</td>\n",
       "      <td>6156</td>\n",
       "      <td>Subscriber</td>\n",
       "      <td>1985</td>\n",
       "      <td>1</td>\n",
       "      <td>2019</td>\n",
       "      <td>12</td>\n",
       "    </tr>\n",
       "  </tbody>\n",
       "</table>\n",
       "</div>"
      ],
      "text/plain": [
       "   tripduration  distance                 starttime                  stoptime  \\\n",
       "0           790     1.596  2019-12-01 00:01:25.3240  2019-12-01 00:14:35.3350   \n",
       "1           166     0.479  2019-12-01 00:05:42.8610  2019-12-01 00:08:29.3830   \n",
       "2           323     1.080  2019-12-01 00:08:28.5560  2019-12-01 00:13:52.4340   \n",
       "3           709     1.938  2019-12-01 00:08:38.5970  2019-12-01 00:20:27.6470   \n",
       "4           332     0.918  2019-12-01 00:10:08.8160  2019-12-01 00:15:41.0510   \n",
       "\n",
       "                        start station name  \\\n",
       "0               Dartmouth St at Newbury St   \n",
       "1  MIT Stata Center at Vassar St / Main St   \n",
       "2          Inman Square at Springfield St.   \n",
       "3                          Third at Binney   \n",
       "4    Verizon Innovation Hub 10 Ware Street   \n",
       "\n",
       "                                 end station name  bikeid    usertype  \\\n",
       "0                                  Kenmore Square    5133  Subscriber   \n",
       "1                    MIT at Mass Ave / Amherst St    2653  Subscriber   \n",
       "2           Verizon Innovation Hub 10 Ware Street    4875  Subscriber   \n",
       "3  Sidney Research Campus/ Erie Street at Waverly    2116  Subscriber   \n",
       "4      Harvard Law School at Mass Ave / Jarvis St    6156  Subscriber   \n",
       "\n",
       "   birth year  gender  year  month  \n",
       "0        1950       1  2019     12  \n",
       "1        1993       1  2019     12  \n",
       "2        1992       1  2019     12  \n",
       "3        1997       1  2019     12  \n",
       "4        1985       1  2019     12  "
      ]
     },
     "execution_count": 21,
     "metadata": {},
     "output_type": "execute_result"
    }
   ],
   "source": [
    "df.head()"
   ]
  },
  {
   "cell_type": "markdown",
   "metadata": {},
   "source": [
    "### New updated CSV"
   ]
  },
  {
   "cell_type": "code",
   "execution_count": 22,
   "metadata": {},
   "outputs": [],
   "source": [
    "df.to_csv('data_bike_update.csv')"
   ]
  },
  {
   "cell_type": "code",
   "execution_count": 68,
   "metadata": {},
   "outputs": [],
   "source": [
    "df = pd.read_csv('data_bike_update.csv')"
   ]
  },
  {
   "cell_type": "code",
   "execution_count": 128,
   "metadata": {},
   "outputs": [
    {
     "name": "stdout",
     "output_type": "stream",
     "text": [
      "<class 'pandas.core.frame.DataFrame'>\n",
      "RangeIndex: 2522771 entries, 0 to 2522770\n",
      "Data columns (total 13 columns):\n",
      "tripduration          int64\n",
      "distance(km)          float64\n",
      "starttime             datetime64[ns]\n",
      "stoptime              datetime64[ns]\n",
      "start station name    object\n",
      "end station name      object\n",
      "bikeid                int64\n",
      "usertype              object\n",
      "birth year            int64\n",
      "gender                int64\n",
      "month                 int64\n",
      "hour                  int64\n",
      "date                  object\n",
      "dtypes: datetime64[ns](2), float64(1), int64(6), object(4)\n",
      "memory usage: 250.2+ MB\n"
     ]
    }
   ],
   "source": [
    "df.info()"
   ]
  },
  {
   "cell_type": "code",
   "execution_count": 34,
   "metadata": {},
   "outputs": [
    {
     "data": {
      "text/plain": [
       "Unnamed: 0            0\n",
       "tripduration          0\n",
       "distance              0\n",
       "starttime             0\n",
       "stoptime              0\n",
       "start station name    0\n",
       "end station name      0\n",
       "bikeid                0\n",
       "usertype              0\n",
       "birth year            0\n",
       "gender                0\n",
       "year                  0\n",
       "month                 0\n",
       "dtype: int64"
      ]
     },
     "execution_count": 34,
     "metadata": {},
     "output_type": "execute_result"
    }
   ],
   "source": [
    "df.isna().sum()"
   ]
  },
  {
   "cell_type": "code",
   "execution_count": 35,
   "metadata": {},
   "outputs": [
    {
     "data": {
      "text/plain": [
       "array([2019], dtype=int64)"
      ]
     },
     "execution_count": 35,
     "metadata": {},
     "output_type": "execute_result"
    }
   ],
   "source": [
    "df['year'].unique()"
   ]
  },
  {
   "cell_type": "code",
   "execution_count": 27,
   "metadata": {},
   "outputs": [
    {
     "data": {
      "text/plain": [
       "array([1, 2, 0], dtype=int64)"
      ]
     },
     "execution_count": 27,
     "metadata": {},
     "output_type": "execute_result"
    }
   ],
   "source": [
    "df['gender'].unique()"
   ]
  },
  {
   "cell_type": "code",
   "execution_count": 69,
   "metadata": {},
   "outputs": [],
   "source": [
    "df.rename(columns={'distance':'distance(km)'},inplace=True)\n",
    "df.drop('Unnamed: 0',axis=1,inplace=True)\n",
    "\n",
    "# Since we know its only 2019 and we only want to analyze the activity in 2019 we can safely drop the year\n",
    "df.drop('year',axis=1,inplace=True)"
   ]
  },
  {
   "cell_type": "code",
   "execution_count": 70,
   "metadata": {},
   "outputs": [],
   "source": [
    "# Datetime Data Type\n",
    "\n",
    "df['starttime'] = pd.to_datetime(df['starttime'])\n",
    "df['stoptime'] = pd.to_datetime(df['stoptime'])\n",
    "\n",
    "# Add hour and date\n",
    "df['hour'] = df['starttime'].dt.hour\n",
    "df['date'] = df['starttime'].dt.date\n",
    "df['date'] = pd.to_datetime(df['date'])\n",
    "df['date'] = df['date'].dt.strftime('%d/%m/%Y')\n",
    "df['month'] = df['starttime'].dt.month\n",
    "df['nameday'] = df['starttime'].dt.day_name()\n",
    "\n",
    "day = ['Monday', 'Tuesday', 'Wednesday', 'Thursday', 'Friday', 'Saturday', 'Sunday']\n",
    "df['nameday'] = pd.Categorical(df['nameday'], categories=day, ordered=True)"
   ]
  },
  {
   "cell_type": "code",
   "execution_count": 71,
   "metadata": {},
   "outputs": [],
   "source": [
    "# Weekend & Weekday\n",
    "\n",
    "week = []\n",
    "\n",
    "for x in df['nameday']:\n",
    "    if x == 'Saturday' or x == 'Sunday':\n",
    "        week.append('Weekend')\n",
    "    else:\n",
    "        week.append('Weekday')\n",
    "        \n",
    "df['weekday/end'] = week"
   ]
  },
  {
   "cell_type": "code",
   "execution_count": 72,
   "metadata": {},
   "outputs": [],
   "source": [
    "# Add age\n",
    "df['age'] = 2019 - df['birth year']"
   ]
  },
  {
   "cell_type": "code",
   "execution_count": 73,
   "metadata": {},
   "outputs": [],
   "source": [
    "#specify gender\n",
    "\n",
    "df['gender'] = np.where(df['gender'] == 0, 'unknown', \n",
    "                 np.where(df['gender'] == 1, 'male',\n",
    "                 np.where(df['gender'] == 2, 'female', '')))"
   ]
  },
  {
   "cell_type": "code",
   "execution_count": 140,
   "metadata": {},
   "outputs": [
    {
     "data": {
      "text/html": [
       "<div>\n",
       "<style scoped>\n",
       "    .dataframe tbody tr th:only-of-type {\n",
       "        vertical-align: middle;\n",
       "    }\n",
       "\n",
       "    .dataframe tbody tr th {\n",
       "        vertical-align: top;\n",
       "    }\n",
       "\n",
       "    .dataframe thead th {\n",
       "        text-align: right;\n",
       "    }\n",
       "</style>\n",
       "<table border=\"1\" class=\"dataframe\">\n",
       "  <thead>\n",
       "    <tr style=\"text-align: right;\">\n",
       "      <th></th>\n",
       "      <th>tripduration</th>\n",
       "      <th>distance(km)</th>\n",
       "      <th>starttime</th>\n",
       "      <th>stoptime</th>\n",
       "      <th>start station name</th>\n",
       "      <th>end station name</th>\n",
       "      <th>bikeid</th>\n",
       "      <th>usertype</th>\n",
       "      <th>birth year</th>\n",
       "      <th>gender</th>\n",
       "      <th>month</th>\n",
       "      <th>hour</th>\n",
       "      <th>date</th>\n",
       "      <th>nameday</th>\n",
       "      <th>weekday/end</th>\n",
       "      <th>age</th>\n",
       "    </tr>\n",
       "  </thead>\n",
       "  <tbody>\n",
       "    <tr>\n",
       "      <th>0</th>\n",
       "      <td>790</td>\n",
       "      <td>1.596</td>\n",
       "      <td>2019-12-01 00:01:25.324</td>\n",
       "      <td>2019-12-01 00:14:35.335</td>\n",
       "      <td>Dartmouth St at Newbury St</td>\n",
       "      <td>Kenmore Square</td>\n",
       "      <td>5133</td>\n",
       "      <td>Subscriber</td>\n",
       "      <td>1950</td>\n",
       "      <td>male</td>\n",
       "      <td>12</td>\n",
       "      <td>0</td>\n",
       "      <td>01/12/2019</td>\n",
       "      <td>Sunday</td>\n",
       "      <td>Weekend</td>\n",
       "      <td>69</td>\n",
       "    </tr>\n",
       "    <tr>\n",
       "      <th>1</th>\n",
       "      <td>166</td>\n",
       "      <td>0.479</td>\n",
       "      <td>2019-12-01 00:05:42.861</td>\n",
       "      <td>2019-12-01 00:08:29.383</td>\n",
       "      <td>MIT Stata Center at Vassar St / Main St</td>\n",
       "      <td>MIT at Mass Ave / Amherst St</td>\n",
       "      <td>2653</td>\n",
       "      <td>Subscriber</td>\n",
       "      <td>1993</td>\n",
       "      <td>male</td>\n",
       "      <td>12</td>\n",
       "      <td>0</td>\n",
       "      <td>01/12/2019</td>\n",
       "      <td>Sunday</td>\n",
       "      <td>Weekend</td>\n",
       "      <td>26</td>\n",
       "    </tr>\n",
       "    <tr>\n",
       "      <th>2</th>\n",
       "      <td>323</td>\n",
       "      <td>1.080</td>\n",
       "      <td>2019-12-01 00:08:28.556</td>\n",
       "      <td>2019-12-01 00:13:52.434</td>\n",
       "      <td>Inman Square at Springfield St.</td>\n",
       "      <td>Verizon Innovation Hub 10 Ware Street</td>\n",
       "      <td>4875</td>\n",
       "      <td>Subscriber</td>\n",
       "      <td>1992</td>\n",
       "      <td>male</td>\n",
       "      <td>12</td>\n",
       "      <td>0</td>\n",
       "      <td>01/12/2019</td>\n",
       "      <td>Sunday</td>\n",
       "      <td>Weekend</td>\n",
       "      <td>27</td>\n",
       "    </tr>\n",
       "    <tr>\n",
       "      <th>3</th>\n",
       "      <td>709</td>\n",
       "      <td>1.938</td>\n",
       "      <td>2019-12-01 00:08:38.597</td>\n",
       "      <td>2019-12-01 00:20:27.647</td>\n",
       "      <td>Third at Binney</td>\n",
       "      <td>Sidney Research Campus/ Erie Street at Waverly</td>\n",
       "      <td>2116</td>\n",
       "      <td>Subscriber</td>\n",
       "      <td>1997</td>\n",
       "      <td>male</td>\n",
       "      <td>12</td>\n",
       "      <td>0</td>\n",
       "      <td>01/12/2019</td>\n",
       "      <td>Sunday</td>\n",
       "      <td>Weekend</td>\n",
       "      <td>22</td>\n",
       "    </tr>\n",
       "    <tr>\n",
       "      <th>4</th>\n",
       "      <td>332</td>\n",
       "      <td>0.918</td>\n",
       "      <td>2019-12-01 00:10:08.816</td>\n",
       "      <td>2019-12-01 00:15:41.051</td>\n",
       "      <td>Verizon Innovation Hub 10 Ware Street</td>\n",
       "      <td>Harvard Law School at Mass Ave / Jarvis St</td>\n",
       "      <td>6156</td>\n",
       "      <td>Subscriber</td>\n",
       "      <td>1985</td>\n",
       "      <td>male</td>\n",
       "      <td>12</td>\n",
       "      <td>0</td>\n",
       "      <td>01/12/2019</td>\n",
       "      <td>Sunday</td>\n",
       "      <td>Weekend</td>\n",
       "      <td>34</td>\n",
       "    </tr>\n",
       "  </tbody>\n",
       "</table>\n",
       "</div>"
      ],
      "text/plain": [
       "   tripduration  distance(km)               starttime                stoptime  \\\n",
       "0           790         1.596 2019-12-01 00:01:25.324 2019-12-01 00:14:35.335   \n",
       "1           166         0.479 2019-12-01 00:05:42.861 2019-12-01 00:08:29.383   \n",
       "2           323         1.080 2019-12-01 00:08:28.556 2019-12-01 00:13:52.434   \n",
       "3           709         1.938 2019-12-01 00:08:38.597 2019-12-01 00:20:27.647   \n",
       "4           332         0.918 2019-12-01 00:10:08.816 2019-12-01 00:15:41.051   \n",
       "\n",
       "                        start station name  \\\n",
       "0               Dartmouth St at Newbury St   \n",
       "1  MIT Stata Center at Vassar St / Main St   \n",
       "2          Inman Square at Springfield St.   \n",
       "3                          Third at Binney   \n",
       "4    Verizon Innovation Hub 10 Ware Street   \n",
       "\n",
       "                                 end station name  bikeid    usertype  \\\n",
       "0                                  Kenmore Square    5133  Subscriber   \n",
       "1                    MIT at Mass Ave / Amherst St    2653  Subscriber   \n",
       "2           Verizon Innovation Hub 10 Ware Street    4875  Subscriber   \n",
       "3  Sidney Research Campus/ Erie Street at Waverly    2116  Subscriber   \n",
       "4      Harvard Law School at Mass Ave / Jarvis St    6156  Subscriber   \n",
       "\n",
       "   birth year gender  month  hour        date nameday weekday/end  age  \n",
       "0        1950   male     12     0  01/12/2019  Sunday     Weekend   69  \n",
       "1        1993   male     12     0  01/12/2019  Sunday     Weekend   26  \n",
       "2        1992   male     12     0  01/12/2019  Sunday     Weekend   27  \n",
       "3        1997   male     12     0  01/12/2019  Sunday     Weekend   22  \n",
       "4        1985   male     12     0  01/12/2019  Sunday     Weekend   34  "
      ]
     },
     "execution_count": 140,
     "metadata": {},
     "output_type": "execute_result"
    }
   ],
   "source": [
    "df.head()"
   ]
  },
  {
   "cell_type": "markdown",
   "metadata": {},
   "source": [
    "## Goals"
   ]
  },
  {
   "cell_type": "markdown",
   "metadata": {},
   "source": [
    "This data is provided by BlueBike, a bike sharing company based on US. There is no major problem they currently face, however they want to maximize profit.\n",
    "\n",
    "There are several goals for this bike sharing data analysis:\n",
    "\n",
    "1. Convert their current customer and new customer to subscribe as monthly or annual member\n",
    "2. Optimize the amount of bike in the station since some station dont have many user while the other is crowded"
   ]
  },
  {
   "cell_type": "markdown",
   "metadata": {},
   "source": [
    "## Analysis"
   ]
  },
  {
   "cell_type": "markdown",
   "metadata": {},
   "source": [
    "### Based on age"
   ]
  },
  {
   "cell_type": "code",
   "execution_count": 74,
   "metadata": {},
   "outputs": [
    {
     "data": {
      "image/png": "[encoded data removed]",
      "text/plain": [
       "<Figure size 1080x576 with 1 Axes>"
      ]
     },
     "metadata": {
      "needs_background": "light"
     },
     "output_type": "display_data"
    }
   ],
   "source": [
    "# Plot based on age\n",
    "\n",
    "plt.figure(figsize=(15,8))\n",
    "sns.distplot(df['age'], kde=False, bins=30)\n",
    "plt.show()"
   ]
  },
  {
   "cell_type": "markdown",
   "metadata": {},
   "source": [
    "There seems to be an unusual data on birthyear because there's someone at age above 100 that rode a bike, very unlikely! even at the age of 90 seems kinda unbelivable, because of that we might want to drop those outlier"
   ]
  },
  {
   "cell_type": "code",
   "execution_count": 75,
   "metadata": {},
   "outputs": [
    {
     "data": {
      "image/png": "[encoded data removed]",
      "text/plain": [
       "<Figure size 1080x576 with 1 Axes>"
      ]
     },
     "metadata": {
      "needs_background": "light"
     },
     "output_type": "display_data"
    }
   ],
   "source": [
    "plt.figure(figsize=(15,8))\n",
    "\n",
    "sns.boxplot(df['age'])\n",
    "plt.show()"
   ]
  },
  {
   "cell_type": "code",
   "execution_count": 76,
   "metadata": {},
   "outputs": [
    {
     "name": "stdout",
     "output_type": "stream",
     "text": [
      "the upper fence is 67.5\n",
      "the lower fence is -0.5\n"
     ]
    }
   ],
   "source": [
    "Q1 = df['age'].quantile(0.25)\n",
    "Q3 = df['age'].quantile(0.75)\n",
    "\n",
    "IQR = Q3 - Q1\n",
    "\n",
    "lower_fence = Q1 - 1.5*IQR\n",
    "upper_fence = Q3 + 1.5*IQR\n",
    "\n",
    "print(f'the upper fence is {upper_fence}')\n",
    "print(f'the lower fence is {lower_fence}')"
   ]
  },
  {
   "cell_type": "markdown",
   "metadata": {},
   "source": [
    "I decide to remove the outlier because of several reasons:\n",
    "\n",
    "1. Its very rare that people at the age of 67 above rent a bike, even if they did, it has a high risk of injuries, resulting a high trip duration and low trip distance which is not the case for the majority of customer (customer at the age below 67)\n",
    "\n",
    "2. There is some error in the data where the user age is above 100 which is not possible (for riding a bike)"
   ]
  },
  {
   "cell_type": "code",
   "execution_count": 77,
   "metadata": {},
   "outputs": [],
   "source": [
    "# Removing the outlier\n",
    "\n",
    "df.drop(df[df['age']>upper_fence].index,inplace=True)"
   ]
  },
  {
   "cell_type": "code",
   "execution_count": 78,
   "metadata": {},
   "outputs": [
    {
     "data": {
      "image/png": "[encoded data removed]",
      "text/plain": [
       "<Figure size 1080x576 with 1 Axes>"
      ]
     },
     "metadata": {
      "needs_background": "light"
     },
     "output_type": "display_data"
    }
   ],
   "source": [
    "# Boxplot after remove the outlier\n",
    "\n",
    "plt.figure(figsize=(15,8))\n",
    "\n",
    "sns.boxplot(df['age'])\n",
    "plt.show()"
   ]
  },
  {
   "cell_type": "code",
   "execution_count": 85,
   "metadata": {},
   "outputs": [
    {
     "data": {
      "image/png": "[encoded data removed]",
      "text/plain": [
       "<Figure size 1500x500 with 1 Axes>"
      ]
     },
     "metadata": {
      "needs_background": "light"
     },
     "output_type": "display_data"
    }
   ],
   "source": [
    "trip_by_age = df.groupby('age', as_index=False)['bikeid'].count().rename(columns={'bikeid': 'total'})\n",
    "    \n",
    "plt.figure(figsize=(15,5),dpi=100)\n",
    "sns.barplot(data=trip_by_age, x='age', y='total')\n",
    "\n",
    "plt.title('Total customer based on age')\n",
    "plt.ylabel('Total',size=15)\n",
    "plt.xlabel('Age',size=15)\n",
    "plt.xticks(fontsize=10)\n",
    "plt.yticks(fontsize=10)\n",
    "plt.show()"
   ]
  },
  {
   "cell_type": "code",
   "execution_count": 80,
   "metadata": {},
   "outputs": [
    {
     "data": {
      "text/plain": [
       "0    1969\n",
       "dtype: int64"
      ]
     },
     "execution_count": 80,
     "metadata": {},
     "output_type": "execute_result"
    }
   ],
   "source": [
    "df['birth year'].mode()"
   ]
  },
  {
   "cell_type": "markdown",
   "metadata": {},
   "source": [
    "Even when we've already taken out the outlier, there still seems to be an anomaly in the data, there is a staggering amount of user precisely at the age of 50.\n",
    "\n",
    "My hypothesis is that the default age when people register if they did not specify the birth year, it automatically result 1969 which is why the most frequent (mode) age is 50 \n",
    "\n",
    "Which is why i suggest a quick fix on this to make sure the birthyear field is mandatory"
   ]
  },
  {
   "cell_type": "markdown",
   "metadata": {},
   "source": [
    "### Distance"
   ]
  },
  {
   "cell_type": "code",
   "execution_count": 81,
   "metadata": {},
   "outputs": [
    {
     "data": {
      "image/png": "[encoded data removed]",
      "text/plain": [
       "<Figure size 1080x576 with 1 Axes>"
      ]
     },
     "metadata": {
      "needs_background": "light"
     },
     "output_type": "display_data"
    }
   ],
   "source": [
    "plt.figure(figsize=(15,8))\n",
    "sns.boxplot(df['distance(km)'])\n",
    "plt.show()"
   ]
  },
  {
   "cell_type": "markdown",
   "metadata": {},
   "source": [
    "There is a very unusual data where the distance is more than 8000 km which is not possible, hence we will drop that particular data"
   ]
  },
  {
   "cell_type": "code",
   "execution_count": 82,
   "metadata": {},
   "outputs": [],
   "source": [
    "df=df[df['distance(km)']<1000]"
   ]
  },
  {
   "cell_type": "code",
   "execution_count": 83,
   "metadata": {},
   "outputs": [
    {
     "data": {
      "image/png": "[encoded data removed]",
      "text/plain": [
       "<Figure size 1080x576 with 1 Axes>"
      ]
     },
     "metadata": {
      "needs_background": "light"
     },
     "output_type": "display_data"
    }
   ],
   "source": [
    "plt.figure(figsize=(15,8))\n",
    "sns.boxplot(df['distance(km)'])\n",
    "plt.show()"
   ]
  },
  {
   "cell_type": "code",
   "execution_count": 87,
   "metadata": {},
   "outputs": [
    {
     "data": {
      "image/png": "[encoded data removed]",
      "text/plain": [
       "<Figure size 1500x800 with 1 Axes>"
      ]
     },
     "metadata": {
      "needs_background": "light"
     },
     "output_type": "display_data"
    }
   ],
   "source": [
    "plt.figure(figsize=(15,8),dpi=100)\n",
    "sns.distplot(df['distance(km)'])\n",
    "\n",
    "plt.title('Distance distribution',size = 20)\n",
    "plt.xlabel('Distance (km)',size=15)\n",
    "plt.xticks(fontsize=13)\n",
    "plt.yticks(fontsize=13)\n",
    "plt.grid()\n",
    "plt.show()"
   ]
  },
  {
   "cell_type": "markdown",
   "metadata": {},
   "source": [
    "- Based on the graph we can see that people mostly traveled around 1 km and the distribution is expectedly right skewed\n",
    "- Even though there are many outliers, i choose not to remove it as they are part of what im observing because they might be part of cycling enthusiast\n",
    "- However, the one that traveled more than 16km (the 8000 one) is removed because we know that that kind of distance is not possible to traveled only through bike"
   ]
  },
  {
   "cell_type": "markdown",
   "metadata": {},
   "source": [
    "## By User Type"
   ]
  },
  {
   "cell_type": "code",
   "execution_count": 89,
   "metadata": {},
   "outputs": [
    {
     "data": {
      "image/png": "[encoded data removed]",
      "text/plain": [
       "<Figure size 1080x576 with 1 Axes>"
      ]
     },
     "metadata": {
      "needs_background": "light"
     },
     "output_type": "display_data"
    }
   ],
   "source": [
    "trip_by_type = df.groupby('usertype',as_index=False)['bikeid'].count().rename(columns={'bikeid':'total'})\n",
    "\n",
    "\n",
    "plt.figure(figsize=(15,8))\n",
    "splot = sns.barplot(data=trip_by_type, x='usertype', y='total',)\n",
    "\n",
    "plt.title('Total customer based on Usertype',size = 20)\n",
    "plt.ylabel('Total',size=15)\n",
    "plt.xlabel('Usertype',size=15)\n",
    "plt.xticks(fontsize=13)\n",
    "plt.yticks(fontsize=13)\n",
    "\n",
    "for p in splot.patches:\n",
    "    splot.annotate(format(p.get_height(), '.1f'), \n",
    "                   (p.get_x() + p.get_width() / 2., p.get_height()), \n",
    "                   ha = 'center', va = 'center', \n",
    "                   size=15,\n",
    "                   xytext = (0,6), \n",
    "                   textcoords = 'offset points')\n",
    "plt.show()"
   ]
  },
  {
   "cell_type": "code",
   "execution_count": 157,
   "metadata": {},
   "outputs": [
    {
     "data": {
      "image/png": "[encoded data removed]",
      "text/plain": [
       "<Figure size 720x576 with 1 Axes>"
      ]
     },
     "metadata": {},
     "output_type": "display_data"
    }
   ],
   "source": [
    "plt.figure(figsize=(10,8))\n",
    "plt.pie(trip_by_type['total'], labels= trip_by_type['usertype'], textprops={'fontsize': 15},autopct = '%1.2f%%')\n",
    "plt.title('Subscribers vs Customers', fontsize=20)\n",
    "plt.show()"
   ]
  },
  {
   "cell_type": "code",
   "execution_count": 146,
   "metadata": {},
   "outputs": [
    {
     "data": {
      "text/html": [
       "<div>\n",
       "<style scoped>\n",
       "    .dataframe tbody tr th:only-of-type {\n",
       "        vertical-align: middle;\n",
       "    }\n",
       "\n",
       "    .dataframe tbody tr th {\n",
       "        vertical-align: top;\n",
       "    }\n",
       "\n",
       "    .dataframe thead th {\n",
       "        text-align: right;\n",
       "    }\n",
       "</style>\n",
       "<table border=\"1\" class=\"dataframe\">\n",
       "  <thead>\n",
       "    <tr style=\"text-align: right;\">\n",
       "      <th></th>\n",
       "      <th>usertype</th>\n",
       "      <th>total</th>\n",
       "    </tr>\n",
       "  </thead>\n",
       "  <tbody>\n",
       "    <tr>\n",
       "      <th>0</th>\n",
       "      <td>Customer</td>\n",
       "      <td>534277</td>\n",
       "    </tr>\n",
       "    <tr>\n",
       "      <th>1</th>\n",
       "      <td>Subscriber</td>\n",
       "      <td>1988494</td>\n",
       "    </tr>\n",
       "  </tbody>\n",
       "</table>\n",
       "</div>"
      ],
      "text/plain": [
       "     usertype    total\n",
       "0    Customer   534277\n",
       "1  Subscriber  1988494"
      ]
     },
     "execution_count": 146,
     "metadata": {},
     "output_type": "execute_result"
    }
   ],
   "source": [
    "trip_by_type"
   ]
  },
  {
   "cell_type": "markdown",
   "metadata": {},
   "source": [
    "From the figure above, the proportion of Customer (single trip or day pass user) is far less than the subscriber (monthly or annual pass)\n",
    "\n",
    "We want to convert those 21% as much as possible to become a subscriber"
   ]
  },
  {
   "cell_type": "markdown",
   "metadata": {},
   "source": [
    "### Based on gender"
   ]
  },
  {
   "cell_type": "code",
   "execution_count": 90,
   "metadata": {},
   "outputs": [
    {
     "data": {
      "image/png": "[encoded data removed]",
      "text/plain": [
       "<Figure size 1080x576 with 1 Axes>"
      ]
     },
     "metadata": {
      "needs_background": "light"
     },
     "output_type": "display_data"
    }
   ],
   "source": [
    "trip_by_gender = df.groupby(['gender','usertype'],as_index=False)['bikeid'].count().rename(columns={'bikeid':'total'})\n",
    "\n",
    "plt.figure(figsize=(15,8))\n",
    "splot = sns.barplot(data=trip_by_gender, x='gender', y='total',hue='usertype')\n",
    "\n",
    "plt.title('Total customer based on gender',size=20)\n",
    "plt.ylabel('Total',size=15)\n",
    "plt.xlabel('Gender',size=15)\n",
    "plt.xticks(fontsize=13)\n",
    "plt.yticks(fontsize=13)\n",
    "\n",
    "for p in splot.patches:\n",
    "    splot.annotate(format(p.get_height(), '.1f'), \n",
    "                   (p.get_x() + p.get_width() / 2., p.get_height()), \n",
    "                   ha = 'center', va = 'center', \n",
    "                   size=15,\n",
    "                   xytext = (0,6), \n",
    "                   textcoords = 'offset points')\n",
    "plt.show()"
   ]
  },
  {
   "cell_type": "markdown",
   "metadata": {},
   "source": [
    "Based on the graph above the proportion of male is clearly bigger, even if the unknown gender turns out to be all female, male is still the dominant one"
   ]
  },
  {
   "cell_type": "markdown",
   "metadata": {},
   "source": [
    "### Based on time"
   ]
  },
  {
   "cell_type": "code",
   "execution_count": 93,
   "metadata": {},
   "outputs": [
    {
     "data": {
      "image/png": "[encoded data removed]",
      "text/plain": [
       "<Figure size 1080x576 with 1 Axes>"
      ]
     },
     "metadata": {
      "needs_background": "light"
     },
     "output_type": "display_data"
    }
   ],
   "source": [
    "# Trip in a week by user type\n",
    "\n",
    "trip_per_week = df.groupby(['nameday','usertype'], as_index=False)['bikeid'].count().rename(columns={'bikeid': 'total'})\n",
    "\n",
    "plt.figure(figsize=(15,8))\n",
    "sns.lineplot(data=trip_per_week, x='nameday', y='total',hue='usertype')\n",
    "plt.title('Total user in a week',size=20)\n",
    "plt.ylabel('Total',size=15)\n",
    "plt.xlabel('Day',size=15)\n",
    "plt.xticks(fontsize=13)\n",
    "plt.yticks(fontsize=13)\n",
    "plt.grid()\n",
    "plt.show()"
   ]
  },
  {
   "cell_type": "code",
   "execution_count": 96,
   "metadata": {},
   "outputs": [
    {
     "data": {
      "image/png": "[encoded data removed]",
      "text/plain": [
       "<Figure size 1080x576 with 1 Axes>"
      ]
     },
     "metadata": {
      "needs_background": "light"
     },
     "output_type": "display_data"
    }
   ],
   "source": [
    "# Trip in a weekend/weekday by user type\n",
    "\n",
    "trip_per_weekendday = df.groupby(['weekday/end','usertype'], as_index=False)['bikeid'].count().rename(columns={'bikeid': 'total'})\n",
    "\n",
    "plt.figure(figsize=(15,8))\n",
    "splot=sns.barplot(data=trip_per_weekendday, x='weekday/end', y='total',hue='usertype')\n",
    "plt.title('Total user in Weekend / Weekday',size = 20)\n",
    "plt.ylabel('Total',size=15)\n",
    "plt.xlabel('Weekend / Weekday',size=15)\n",
    "plt.xticks(fontsize=13)\n",
    "plt.yticks(fontsize=13)\n",
    "\n",
    "for p in splot.patches:\n",
    "    splot.annotate(format(p.get_height(), '.1f'), \n",
    "                   (p.get_x() + p.get_width() / 2., p.get_height()), \n",
    "                   ha = 'center', va = 'center', \n",
    "                   size=15,\n",
    "                   xytext = (0,6), \n",
    "                   textcoords = 'offset points')\n",
    "\n",
    "plt.show()"
   ]
  },
  {
   "cell_type": "code",
   "execution_count": null,
   "metadata": {},
   "outputs": [],
   "source": []
  },
  {
   "cell_type": "code",
   "execution_count": 24,
   "metadata": {},
   "outputs": [
    {
     "data": {
      "text/html": [
       "<div>\n",
       "<style scoped>\n",
       "    .dataframe tbody tr th:only-of-type {\n",
       "        vertical-align: middle;\n",
       "    }\n",
       "\n",
       "    .dataframe tbody tr th {\n",
       "        vertical-align: top;\n",
       "    }\n",
       "\n",
       "    .dataframe thead th {\n",
       "        text-align: right;\n",
       "    }\n",
       "</style>\n",
       "<table border=\"1\" class=\"dataframe\">\n",
       "  <thead>\n",
       "    <tr style=\"text-align: right;\">\n",
       "      <th></th>\n",
       "      <th>weekday/end</th>\n",
       "      <th>usertype</th>\n",
       "      <th>total</th>\n",
       "    </tr>\n",
       "  </thead>\n",
       "  <tbody>\n",
       "    <tr>\n",
       "      <th>0</th>\n",
       "      <td>Weekday</td>\n",
       "      <td>Customer</td>\n",
       "      <td>307672</td>\n",
       "    </tr>\n",
       "    <tr>\n",
       "      <th>1</th>\n",
       "      <td>Weekday</td>\n",
       "      <td>Subscriber</td>\n",
       "      <td>1600540</td>\n",
       "    </tr>\n",
       "    <tr>\n",
       "      <th>2</th>\n",
       "      <td>Weekend</td>\n",
       "      <td>Customer</td>\n",
       "      <td>226181</td>\n",
       "    </tr>\n",
       "    <tr>\n",
       "      <th>3</th>\n",
       "      <td>Weekend</td>\n",
       "      <td>Subscriber</td>\n",
       "      <td>375975</td>\n",
       "    </tr>\n",
       "  </tbody>\n",
       "</table>\n",
       "</div>"
      ],
      "text/plain": [
       "  weekday/end    usertype    total\n",
       "0     Weekday    Customer   307672\n",
       "1     Weekday  Subscriber  1600540\n",
       "2     Weekend    Customer   226181\n",
       "3     Weekend  Subscriber   375975"
      ]
     },
     "execution_count": 24,
     "metadata": {},
     "output_type": "execute_result"
    }
   ],
   "source": [
    "trip_per_weekendday"
   ]
  },
  {
   "cell_type": "code",
   "execution_count": 30,
   "metadata": {},
   "outputs": [
    {
     "name": "stdout",
     "output_type": "stream",
     "text": [
      "Total user per day on weekday: 381642.4\n",
      "Total user per day on weekend: 301078.0\n"
     ]
    }
   ],
   "source": [
    "weekday = trip_per_weekendday[trip_per_weekendday['weekday/end']=='Weekday']['total'].sum()/5\n",
    "weekend = trip_per_weekendday[trip_per_weekendday['weekday/end']=='Weekend']['total'].sum()/2\n",
    "\n",
    "print(f'Total user per day on weekday: {weekday}')\n",
    "print(f'Total user per day on weekend: {weekend}')"
   ]
  },
  {
   "cell_type": "code",
   "execution_count": null,
   "metadata": {},
   "outputs": [],
   "source": []
  },
  {
   "cell_type": "markdown",
   "metadata": {},
   "source": [
    "- For subscriber, they often use the service usually in weekday but we can see a decline in weekend\n",
    "- Customer on the other hand, they're most often use the service in weekend\n",
    "- On weekend, user per day decline around 80,000 users\n",
    "- However, the composition on weekend for subscriber and customer become very close relatively from weekday\n",
    "\n",
    "It can be said that most subscriber use the bike to go to work, while most customer use the bike as a leisure"
   ]
  },
  {
   "cell_type": "code",
   "execution_count": 98,
   "metadata": {},
   "outputs": [
    {
     "data": {
      "image/png": "[encoded data removed]",
      "text/plain": [
       "<Figure size 1080x576 with 1 Axes>"
      ]
     },
     "metadata": {
      "needs_background": "light"
     },
     "output_type": "display_data"
    }
   ],
   "source": [
    "# Trip in a weekday\n",
    "\n",
    "day = df[df['weekday/end']=='Weekday']\n",
    "trip_per_day = day.groupby(['hour','usertype'], as_index=False)['bikeid'].count().rename(columns={'bikeid': 'total'})\n",
    "\n",
    "plt.figure(figsize=(15,8))\n",
    "sns.lineplot(data=trip_per_day, x='hour', y='total',hue='usertype')\n",
    "plt.title('Total user in a day (Weekday)',size=20)\n",
    "plt.ylabel('Total',size=15)\n",
    "plt.xlabel('Hour',size=15)\n",
    "plt.xticks(fontsize=13)\n",
    "plt.yticks(fontsize=13)\n",
    "plt.grid()\n",
    "plt.show()"
   ]
  },
  {
   "cell_type": "markdown",
   "metadata": {},
   "source": [
    "- Similar to our analysis above, in weekday, many subscriber use the service to go to work\n",
    "- Rush hour starts around 6-8 am and 17 - 18 pm \n",
    "- Customer remain stable almost unafected by hour\n",
    "\n",
    " Because customer is relatively unafected by hour, there is a chance that people that use it is not for job related unlike subcriber which has a pattern, its probable that they're mostly tourist."
   ]
  },
  {
   "cell_type": "code",
   "execution_count": 99,
   "metadata": {},
   "outputs": [
    {
     "data": {
      "image/png": "[encoded data removed]",
      "text/plain": [
       "<Figure size 1080x576 with 1 Axes>"
      ]
     },
     "metadata": {
      "needs_background": "light"
     },
     "output_type": "display_data"
    }
   ],
   "source": [
    "# Trip in a weekday\n",
    "\n",
    "day = df[df['weekday/end']=='Weekend']\n",
    "trip_per_day = day.groupby(['hour','usertype'], as_index=False)['bikeid'].count().rename(columns={'bikeid': 'total'})\n",
    "\n",
    "plt.figure(figsize=(15,8))\n",
    "sns.lineplot(data=trip_per_day, x='hour', y='total',hue='usertype')\n",
    "plt.title('Total user in a day(Weekend)',size=20)\n",
    "plt.ylabel('Total',size=15)\n",
    "plt.xlabel('Hour',size=15)\n",
    "plt.xticks(fontsize=13)\n",
    "plt.yticks(fontsize=13)\n",
    "plt.grid()\n",
    "plt.show()"
   ]
  },
  {
   "cell_type": "markdown",
   "metadata": {},
   "source": [
    "In the weekend however:\n",
    "- The user pattern between subscriber and customer is similar\n",
    "- There is no pattern like rush hour in weekday\n",
    "- Users mostly ride at 10 am to 18 pm "
   ]
  },
  {
   "cell_type": "code",
   "execution_count": 100,
   "metadata": {},
   "outputs": [
    {
     "data": {
      "image/png": "[encoded data removed]",
      "text/plain": [
       "<Figure size 1080x576 with 1 Axes>"
      ]
     },
     "metadata": {
      "needs_background": "light"
     },
     "output_type": "display_data"
    }
   ],
   "source": [
    "# Trip per month\n",
    "\n",
    "trip_per_month = df.groupby(['month','usertype'], as_index=False)['bikeid'].count().rename(columns={'bikeid': 'total'})\n",
    "\n",
    "plt.figure(figsize=(15,8))\n",
    "sns.lineplot(data=trip_per_month, x='month', y='total',hue='usertype')\n",
    "plt.title('Total user in a year',size=20)\n",
    "plt.ylabel('Total',size=15)\n",
    "plt.xlabel('Month',size=15)\n",
    "plt.xticks(fontsize=13)\n",
    "plt.yticks(fontsize=13)\n",
    "plt.grid()\n",
    "\n",
    "\n",
    "\n",
    "plt.show()"
   ]
  },
  {
   "cell_type": "markdown",
   "metadata": {},
   "source": [
    "- The number of rides per month shows a noticable rise and decline in a year\n",
    "- the peak occurs in September and the minimum occurs near January\n",
    "- This is likely related to the seasonal weather pattern where summer is the most popular time to ride while in winter less people are likely to ride"
   ]
  },
  {
   "cell_type": "markdown",
   "metadata": {},
   "source": [
    "## By Station"
   ]
  },
  {
   "cell_type": "code",
   "execution_count": 183,
   "metadata": {},
   "outputs": [
    {
     "data": {
      "text/html": [
       "<div>\n",
       "<style scoped>\n",
       "    .dataframe tbody tr th:only-of-type {\n",
       "        vertical-align: middle;\n",
       "    }\n",
       "\n",
       "    .dataframe tbody tr th {\n",
       "        vertical-align: top;\n",
       "    }\n",
       "\n",
       "    .dataframe thead th {\n",
       "        text-align: right;\n",
       "    }\n",
       "</style>\n",
       "<table border=\"1\" class=\"dataframe\">\n",
       "  <thead>\n",
       "    <tr style=\"text-align: right;\">\n",
       "      <th></th>\n",
       "      <th>start station name</th>\n",
       "      <th>total</th>\n",
       "    </tr>\n",
       "  </thead>\n",
       "  <tbody>\n",
       "    <tr>\n",
       "      <th>213</th>\n",
       "      <td>MIT at Mass Ave / Amherst St</td>\n",
       "      <td>61056</td>\n",
       "    </tr>\n",
       "    <tr>\n",
       "      <th>84</th>\n",
       "      <td>Central Square at Mass Ave / Essex St</td>\n",
       "      <td>50997</td>\n",
       "    </tr>\n",
       "    <tr>\n",
       "      <th>211</th>\n",
       "      <td>MIT Stata Center at Vassar St / Main St</td>\n",
       "      <td>47197</td>\n",
       "    </tr>\n",
       "    <tr>\n",
       "      <th>297</th>\n",
       "      <td>South Station - 700 Atlantic Ave</td>\n",
       "      <td>44427</td>\n",
       "    </tr>\n",
       "    <tr>\n",
       "      <th>21</th>\n",
       "      <td>Ames St at Main St</td>\n",
       "      <td>39128</td>\n",
       "    </tr>\n",
       "    <tr>\n",
       "      <th>199</th>\n",
       "      <td>Kendall T</td>\n",
       "      <td>36917</td>\n",
       "    </tr>\n",
       "    <tr>\n",
       "      <th>241</th>\n",
       "      <td>Nashua Street at Red Auerbach Way</td>\n",
       "      <td>36657</td>\n",
       "    </tr>\n",
       "    <tr>\n",
       "      <th>173</th>\n",
       "      <td>Harvard Square at Mass Ave/ Dunster</td>\n",
       "      <td>35095</td>\n",
       "    </tr>\n",
       "    <tr>\n",
       "      <th>210</th>\n",
       "      <td>MIT Pacific St at Purrington St</td>\n",
       "      <td>34992</td>\n",
       "    </tr>\n",
       "    <tr>\n",
       "      <th>212</th>\n",
       "      <td>MIT Vassar St</td>\n",
       "      <td>29787</td>\n",
       "    </tr>\n",
       "  </tbody>\n",
       "</table>\n",
       "</div>"
      ],
      "text/plain": [
       "                          start station name  total\n",
       "213             MIT at Mass Ave / Amherst St  61056\n",
       "84     Central Square at Mass Ave / Essex St  50997\n",
       "211  MIT Stata Center at Vassar St / Main St  47197\n",
       "297         South Station - 700 Atlantic Ave  44427\n",
       "21                        Ames St at Main St  39128\n",
       "199                                Kendall T  36917\n",
       "241        Nashua Street at Red Auerbach Way  36657\n",
       "173      Harvard Square at Mass Ave/ Dunster  35095\n",
       "210          MIT Pacific St at Purrington St  34992\n",
       "212                            MIT Vassar St  29787"
      ]
     },
     "execution_count": 183,
     "metadata": {},
     "output_type": "execute_result"
    }
   ],
   "source": [
    "# Top 10 Start station\n",
    "\n",
    "df.groupby('start station name', as_index=False)['bikeid'].count().sort_values('bikeid', ascending=False).rename(columns={'bikeid': 'total'}).head(10)"
   ]
  },
  {
   "cell_type": "code",
   "execution_count": 102,
   "metadata": {},
   "outputs": [
    {
     "data": {
      "text/html": [
       "<div>\n",
       "<style scoped>\n",
       "    .dataframe tbody tr th:only-of-type {\n",
       "        vertical-align: middle;\n",
       "    }\n",
       "\n",
       "    .dataframe tbody tr th {\n",
       "        vertical-align: top;\n",
       "    }\n",
       "\n",
       "    .dataframe thead th {\n",
       "        text-align: right;\n",
       "    }\n",
       "</style>\n",
       "<table border=\"1\" class=\"dataframe\">\n",
       "  <thead>\n",
       "    <tr style=\"text-align: right;\">\n",
       "      <th></th>\n",
       "      <th>start station name</th>\n",
       "      <th>total</th>\n",
       "    </tr>\n",
       "  </thead>\n",
       "  <tbody>\n",
       "    <tr>\n",
       "      <th>214</th>\n",
       "      <td>MTL-ECO5.1-01</td>\n",
       "      <td>1</td>\n",
       "    </tr>\n",
       "    <tr>\n",
       "      <th>18</th>\n",
       "      <td>American Legion Hwy at Canterbury St</td>\n",
       "      <td>21</td>\n",
       "    </tr>\n",
       "    <tr>\n",
       "      <th>352</th>\n",
       "      <td>Washington St at Walsh Playground</td>\n",
       "      <td>33</td>\n",
       "    </tr>\n",
       "    <tr>\n",
       "      <th>231</th>\n",
       "      <td>Mobile Temporary Station</td>\n",
       "      <td>40</td>\n",
       "    </tr>\n",
       "    <tr>\n",
       "      <th>297</th>\n",
       "      <td>Spring St at Powell St</td>\n",
       "      <td>49</td>\n",
       "    </tr>\n",
       "    <tr>\n",
       "      <th>344</th>\n",
       "      <td>Washington St at Fuller St</td>\n",
       "      <td>50</td>\n",
       "    </tr>\n",
       "    <tr>\n",
       "      <th>80</th>\n",
       "      <td>Central Ave at River St</td>\n",
       "      <td>53</td>\n",
       "    </tr>\n",
       "    <tr>\n",
       "      <th>234</th>\n",
       "      <td>Mt. Hope St at Hyde Park Ave</td>\n",
       "      <td>65</td>\n",
       "    </tr>\n",
       "    <tr>\n",
       "      <th>121</th>\n",
       "      <td>Cummins at American Legion</td>\n",
       "      <td>67</td>\n",
       "    </tr>\n",
       "    <tr>\n",
       "      <th>148</th>\n",
       "      <td>Ferry St at Pleasantview Ave</td>\n",
       "      <td>89</td>\n",
       "    </tr>\n",
       "    <tr>\n",
       "      <th>84</th>\n",
       "      <td>Centre St at Parkway YMCA</td>\n",
       "      <td>93</td>\n",
       "    </tr>\n",
       "    <tr>\n",
       "      <th>86</th>\n",
       "      <td>Centre St at W. Roxbury Post Office</td>\n",
       "      <td>97</td>\n",
       "    </tr>\n",
       "    <tr>\n",
       "      <th>243</th>\n",
       "      <td>Norman St at Kelvin St</td>\n",
       "      <td>109</td>\n",
       "    </tr>\n",
       "    <tr>\n",
       "      <th>244</th>\n",
       "      <td>Northbourne Rd at Hyde Park Ave</td>\n",
       "      <td>115</td>\n",
       "    </tr>\n",
       "    <tr>\n",
       "      <th>158</th>\n",
       "      <td>Geiger Gibson Community Health Center</td>\n",
       "      <td>119</td>\n",
       "    </tr>\n",
       "    <tr>\n",
       "      <th>342</th>\n",
       "      <td>Washington St at Denton Terr</td>\n",
       "      <td>125</td>\n",
       "    </tr>\n",
       "    <tr>\n",
       "      <th>185</th>\n",
       "      <td>Hyde Park Ave at Walk Hill St</td>\n",
       "      <td>126</td>\n",
       "    </tr>\n",
       "    <tr>\n",
       "      <th>226</th>\n",
       "      <td>Mattapan Library</td>\n",
       "      <td>130</td>\n",
       "    </tr>\n",
       "    <tr>\n",
       "      <th>306</th>\n",
       "      <td>Swan St. Park</td>\n",
       "      <td>131</td>\n",
       "    </tr>\n",
       "    <tr>\n",
       "      <th>315</th>\n",
       "      <td>Thetford Ave at Norfolk St</td>\n",
       "      <td>136</td>\n",
       "    </tr>\n",
       "  </tbody>\n",
       "</table>\n",
       "</div>"
      ],
      "text/plain": [
       "                        start station name  total\n",
       "214                          MTL-ECO5.1-01      1\n",
       "18    American Legion Hwy at Canterbury St     21\n",
       "352      Washington St at Walsh Playground     33\n",
       "231               Mobile Temporary Station     40\n",
       "297                 Spring St at Powell St     49\n",
       "344             Washington St at Fuller St     50\n",
       "80                 Central Ave at River St     53\n",
       "234           Mt. Hope St at Hyde Park Ave     65\n",
       "121             Cummins at American Legion     67\n",
       "148           Ferry St at Pleasantview Ave     89\n",
       "84               Centre St at Parkway YMCA     93\n",
       "86     Centre St at W. Roxbury Post Office     97\n",
       "243                 Norman St at Kelvin St    109\n",
       "244        Northbourne Rd at Hyde Park Ave    115\n",
       "158  Geiger Gibson Community Health Center    119\n",
       "342           Washington St at Denton Terr    125\n",
       "185          Hyde Park Ave at Walk Hill St    126\n",
       "226                       Mattapan Library    130\n",
       "306                          Swan St. Park    131\n",
       "315             Thetford Ave at Norfolk St    136"
      ]
     },
     "execution_count": 102,
     "metadata": {},
     "output_type": "execute_result"
    }
   ],
   "source": [
    "# Bottom 20 start station\n",
    "\n",
    "\n",
    "df.groupby('start station name', as_index=False)['bikeid'].count().sort_values('bikeid').rename(columns={'bikeid': 'total'}).head(20)"
   ]
  },
  {
   "cell_type": "code",
   "execution_count": 185,
   "metadata": {},
   "outputs": [
    {
     "data": {
      "text/html": [
       "<div>\n",
       "<style scoped>\n",
       "    .dataframe tbody tr th:only-of-type {\n",
       "        vertical-align: middle;\n",
       "    }\n",
       "\n",
       "    .dataframe tbody tr th {\n",
       "        vertical-align: top;\n",
       "    }\n",
       "\n",
       "    .dataframe thead th {\n",
       "        text-align: right;\n",
       "    }\n",
       "</style>\n",
       "<table border=\"1\" class=\"dataframe\">\n",
       "  <thead>\n",
       "    <tr style=\"text-align: right;\">\n",
       "      <th></th>\n",
       "      <th>end station name</th>\n",
       "      <th>total</th>\n",
       "    </tr>\n",
       "  </thead>\n",
       "  <tbody>\n",
       "    <tr>\n",
       "      <th>213</th>\n",
       "      <td>MIT at Mass Ave / Amherst St</td>\n",
       "      <td>56986</td>\n",
       "    </tr>\n",
       "    <tr>\n",
       "      <th>84</th>\n",
       "      <td>Central Square at Mass Ave / Essex St</td>\n",
       "      <td>51442</td>\n",
       "    </tr>\n",
       "    <tr>\n",
       "      <th>21</th>\n",
       "      <td>Ames St at Main St</td>\n",
       "      <td>46295</td>\n",
       "    </tr>\n",
       "    <tr>\n",
       "      <th>241</th>\n",
       "      <td>Nashua Street at Red Auerbach Way</td>\n",
       "      <td>46245</td>\n",
       "    </tr>\n",
       "    <tr>\n",
       "      <th>211</th>\n",
       "      <td>MIT Stata Center at Vassar St / Main St</td>\n",
       "      <td>41828</td>\n",
       "    </tr>\n",
       "    <tr>\n",
       "      <th>297</th>\n",
       "      <td>South Station - 700 Atlantic Ave</td>\n",
       "      <td>40863</td>\n",
       "    </tr>\n",
       "    <tr>\n",
       "      <th>173</th>\n",
       "      <td>Harvard Square at Mass Ave/ Dunster</td>\n",
       "      <td>35990</td>\n",
       "    </tr>\n",
       "    <tr>\n",
       "      <th>210</th>\n",
       "      <td>MIT Pacific St at Purrington St</td>\n",
       "      <td>32915</td>\n",
       "    </tr>\n",
       "    <tr>\n",
       "      <th>199</th>\n",
       "      <td>Kendall T</td>\n",
       "      <td>32389</td>\n",
       "    </tr>\n",
       "    <tr>\n",
       "      <th>212</th>\n",
       "      <td>MIT Vassar St</td>\n",
       "      <td>28517</td>\n",
       "    </tr>\n",
       "  </tbody>\n",
       "</table>\n",
       "</div>"
      ],
      "text/plain": [
       "                            end station name  total\n",
       "213             MIT at Mass Ave / Amherst St  56986\n",
       "84     Central Square at Mass Ave / Essex St  51442\n",
       "21                        Ames St at Main St  46295\n",
       "241        Nashua Street at Red Auerbach Way  46245\n",
       "211  MIT Stata Center at Vassar St / Main St  41828\n",
       "297         South Station - 700 Atlantic Ave  40863\n",
       "173      Harvard Square at Mass Ave/ Dunster  35990\n",
       "210          MIT Pacific St at Purrington St  32915\n",
       "199                                Kendall T  32389\n",
       "212                            MIT Vassar St  28517"
      ]
     },
     "execution_count": 185,
     "metadata": {},
     "output_type": "execute_result"
    }
   ],
   "source": [
    "# Top 10 End station\n",
    "\n",
    "df.groupby('end station name', as_index=False)['bikeid'].count().sort_values('bikeid', ascending=False).rename(columns={'bikeid': 'total'}).head(10)"
   ]
  },
  {
   "cell_type": "code",
   "execution_count": 101,
   "metadata": {},
   "outputs": [
    {
     "data": {
      "text/html": [
       "<div>\n",
       "<style scoped>\n",
       "    .dataframe tbody tr th:only-of-type {\n",
       "        vertical-align: middle;\n",
       "    }\n",
       "\n",
       "    .dataframe tbody tr th {\n",
       "        vertical-align: top;\n",
       "    }\n",
       "\n",
       "    .dataframe thead th {\n",
       "        text-align: right;\n",
       "    }\n",
       "</style>\n",
       "<table border=\"1\" class=\"dataframe\">\n",
       "  <thead>\n",
       "    <tr style=\"text-align: right;\">\n",
       "      <th></th>\n",
       "      <th>end station name</th>\n",
       "      <th>total</th>\n",
       "    </tr>\n",
       "  </thead>\n",
       "  <tbody>\n",
       "    <tr>\n",
       "      <th>338</th>\n",
       "      <td>Warehouse Lab PBSC</td>\n",
       "      <td>1</td>\n",
       "    </tr>\n",
       "    <tr>\n",
       "      <th>214</th>\n",
       "      <td>MTL-ECO4-01</td>\n",
       "      <td>1</td>\n",
       "    </tr>\n",
       "    <tr>\n",
       "      <th>18</th>\n",
       "      <td>American Legion Hwy at Canterbury St</td>\n",
       "      <td>22</td>\n",
       "    </tr>\n",
       "    <tr>\n",
       "      <th>231</th>\n",
       "      <td>Mobile Temporary Station</td>\n",
       "      <td>32</td>\n",
       "    </tr>\n",
       "    <tr>\n",
       "      <th>353</th>\n",
       "      <td>Washington St at Walsh Playground</td>\n",
       "      <td>35</td>\n",
       "    </tr>\n",
       "    <tr>\n",
       "      <th>345</th>\n",
       "      <td>Washington St at Fuller St</td>\n",
       "      <td>55</td>\n",
       "    </tr>\n",
       "    <tr>\n",
       "      <th>297</th>\n",
       "      <td>Spring St at Powell St</td>\n",
       "      <td>59</td>\n",
       "    </tr>\n",
       "    <tr>\n",
       "      <th>80</th>\n",
       "      <td>Central Ave at River St</td>\n",
       "      <td>61</td>\n",
       "    </tr>\n",
       "    <tr>\n",
       "      <th>84</th>\n",
       "      <td>Centre St at Parkway YMCA</td>\n",
       "      <td>97</td>\n",
       "    </tr>\n",
       "    <tr>\n",
       "      <th>86</th>\n",
       "      <td>Centre St at W. Roxbury Post Office</td>\n",
       "      <td>98</td>\n",
       "    </tr>\n",
       "    <tr>\n",
       "      <th>121</th>\n",
       "      <td>Cummins at American Legion</td>\n",
       "      <td>104</td>\n",
       "    </tr>\n",
       "    <tr>\n",
       "      <th>148</th>\n",
       "      <td>Ferry St at Pleasantview Ave</td>\n",
       "      <td>106</td>\n",
       "    </tr>\n",
       "    <tr>\n",
       "      <th>234</th>\n",
       "      <td>Mt. Hope St at Hyde Park Ave</td>\n",
       "      <td>116</td>\n",
       "    </tr>\n",
       "    <tr>\n",
       "      <th>158</th>\n",
       "      <td>Geiger Gibson Community Health Center</td>\n",
       "      <td>118</td>\n",
       "    </tr>\n",
       "    <tr>\n",
       "      <th>343</th>\n",
       "      <td>Washington St at Denton Terr</td>\n",
       "      <td>128</td>\n",
       "    </tr>\n",
       "    <tr>\n",
       "      <th>244</th>\n",
       "      <td>Northbourne Rd at Hyde Park Ave</td>\n",
       "      <td>132</td>\n",
       "    </tr>\n",
       "    <tr>\n",
       "      <th>185</th>\n",
       "      <td>Hyde Park Ave at Walk Hill St</td>\n",
       "      <td>134</td>\n",
       "    </tr>\n",
       "    <tr>\n",
       "      <th>243</th>\n",
       "      <td>Norman St at Kelvin St</td>\n",
       "      <td>135</td>\n",
       "    </tr>\n",
       "    <tr>\n",
       "      <th>232</th>\n",
       "      <td>Morton St T</td>\n",
       "      <td>141</td>\n",
       "    </tr>\n",
       "    <tr>\n",
       "      <th>315</th>\n",
       "      <td>Thetford Ave at Norfolk St</td>\n",
       "      <td>152</td>\n",
       "    </tr>\n",
       "  </tbody>\n",
       "</table>\n",
       "</div>"
      ],
      "text/plain": [
       "                          end station name  total\n",
       "338                     Warehouse Lab PBSC      1\n",
       "214                            MTL-ECO4-01      1\n",
       "18    American Legion Hwy at Canterbury St     22\n",
       "231               Mobile Temporary Station     32\n",
       "353      Washington St at Walsh Playground     35\n",
       "345             Washington St at Fuller St     55\n",
       "297                 Spring St at Powell St     59\n",
       "80                 Central Ave at River St     61\n",
       "84               Centre St at Parkway YMCA     97\n",
       "86     Centre St at W. Roxbury Post Office     98\n",
       "121             Cummins at American Legion    104\n",
       "148           Ferry St at Pleasantview Ave    106\n",
       "234           Mt. Hope St at Hyde Park Ave    116\n",
       "158  Geiger Gibson Community Health Center    118\n",
       "343           Washington St at Denton Terr    128\n",
       "244        Northbourne Rd at Hyde Park Ave    132\n",
       "185          Hyde Park Ave at Walk Hill St    134\n",
       "243                 Norman St at Kelvin St    135\n",
       "232                            Morton St T    141\n",
       "315             Thetford Ave at Norfolk St    152"
      ]
     },
     "execution_count": 101,
     "metadata": {},
     "output_type": "execute_result"
    }
   ],
   "source": [
    "# Bottom 20 End Station\n",
    "\n",
    "# Top Start station\n",
    "\n",
    "df.groupby('end station name', as_index=False)['bikeid'].count().sort_values('bikeid').rename(columns={'bikeid': 'total'}).head(20)"
   ]
  },
  {
   "cell_type": "code",
   "execution_count": 106,
   "metadata": {},
   "outputs": [
    {
     "data": {
      "text/html": [
       "<div>\n",
       "<style scoped>\n",
       "    .dataframe tbody tr th:only-of-type {\n",
       "        vertical-align: middle;\n",
       "    }\n",
       "\n",
       "    .dataframe tbody tr th {\n",
       "        vertical-align: top;\n",
       "    }\n",
       "\n",
       "    .dataframe thead th {\n",
       "        text-align: right;\n",
       "    }\n",
       "</style>\n",
       "<table border=\"1\" class=\"dataframe\">\n",
       "  <thead>\n",
       "    <tr style=\"text-align: right;\">\n",
       "      <th></th>\n",
       "      <th>route</th>\n",
       "      <th>total</th>\n",
       "    </tr>\n",
       "  </thead>\n",
       "  <tbody>\n",
       "    <tr>\n",
       "      <th>39428</th>\n",
       "      <td>MIT Pacific St at Purrington St - MIT Stata Center at Vassar St / Main St</td>\n",
       "      <td>4954</td>\n",
       "    </tr>\n",
       "    <tr>\n",
       "      <th>39699</th>\n",
       "      <td>MIT Stata Center at Vassar St / Main St - MIT Pacific St at Purrington St</td>\n",
       "      <td>4897</td>\n",
       "    </tr>\n",
       "    <tr>\n",
       "      <th>40249</th>\n",
       "      <td>MIT at Mass Ave / Amherst St - MIT Vassar St</td>\n",
       "      <td>4411</td>\n",
       "    </tr>\n",
       "    <tr>\n",
       "      <th>40102</th>\n",
       "      <td>MIT at Mass Ave / Amherst St - Beacon St at Massachusetts Ave</td>\n",
       "      <td>4182</td>\n",
       "    </tr>\n",
       "    <tr>\n",
       "      <th>39284</th>\n",
       "      <td>MIT Pacific St at Purrington St - Ames St at Main St</td>\n",
       "      <td>4085</td>\n",
       "    </tr>\n",
       "    <tr>\n",
       "      <th>15553</th>\n",
       "      <td>Central Square at Mass Ave / Essex St - MIT Pacific St at Purrington St</td>\n",
       "      <td>3982</td>\n",
       "    </tr>\n",
       "    <tr>\n",
       "      <th>5803</th>\n",
       "      <td>Beacon St at Massachusetts Ave - MIT at Mass Ave / Amherst St</td>\n",
       "      <td>3933</td>\n",
       "    </tr>\n",
       "    <tr>\n",
       "      <th>39970</th>\n",
       "      <td>MIT Vassar St - MIT Stata Center at Vassar St / Main St</td>\n",
       "      <td>3887</td>\n",
       "    </tr>\n",
       "    <tr>\n",
       "      <th>39832</th>\n",
       "      <td>MIT Vassar St - Ames St at Main St</td>\n",
       "      <td>3855</td>\n",
       "    </tr>\n",
       "    <tr>\n",
       "      <th>20837</th>\n",
       "      <td>Community Path at Cedar Street - Grove St at Community Path</td>\n",
       "      <td>3830</td>\n",
       "    </tr>\n",
       "  </tbody>\n",
       "</table>\n",
       "</div>"
      ],
      "text/plain": [
       "                                                                           route  \\\n",
       "39428  MIT Pacific St at Purrington St - MIT Stata Center at Vassar St / Main St   \n",
       "39699  MIT Stata Center at Vassar St / Main St - MIT Pacific St at Purrington St   \n",
       "40249  MIT at Mass Ave / Amherst St - MIT Vassar St                                \n",
       "40102  MIT at Mass Ave / Amherst St - Beacon St at Massachusetts Ave               \n",
       "39284  MIT Pacific St at Purrington St - Ames St at Main St                        \n",
       "15553  Central Square at Mass Ave / Essex St - MIT Pacific St at Purrington St     \n",
       "5803   Beacon St at Massachusetts Ave - MIT at Mass Ave / Amherst St               \n",
       "39970  MIT Vassar St - MIT Stata Center at Vassar St / Main St                     \n",
       "39832  MIT Vassar St - Ames St at Main St                                          \n",
       "20837  Community Path at Cedar Street - Grove St at Community Path                 \n",
       "\n",
       "       total  \n",
       "39428  4954   \n",
       "39699  4897   \n",
       "40249  4411   \n",
       "40102  4182   \n",
       "39284  4085   \n",
       "15553  3982   \n",
       "5803   3933   \n",
       "39970  3887   \n",
       "39832  3855   \n",
       "20837  3830   "
      ]
     },
     "execution_count": 106,
     "metadata": {},
     "output_type": "execute_result"
    }
   ],
   "source": [
    "# Top Route\n",
    "pd.set_option('display.max_colwidth', -1)\n",
    "df['route'] = df['start station name'] + ' - ' + df['end station name']\n",
    "\n",
    "df.groupby('route', as_index=False)['bikeid'].count().sort_values('bikeid', ascending=False).rename(columns={'bikeid': 'total'}).head(10)\n",
    "\n"
   ]
  },
  {
   "cell_type": "markdown",
   "metadata": {},
   "source": [
    "- The top 3 start station are MIT at Mass ave, Central square Mass ave, and MIT Stata center\n",
    "- The top 3 end station are MIT at Mass ave, Central square Mass ave, and Ames st\n",
    "- The top route is MIT pacific - MIT Stata"
   ]
  },
  {
   "cell_type": "markdown",
   "metadata": {},
   "source": [
    "### Conclusion & Recommendation\n",
    "\n",
    "- Most of our customer age is around 23-32, at that age money can be a heavy consideration to rent a bike, which is why competitive pricing strategy for that age should be considered\n",
    "\n",
    "- As we discussed before, it very probable that majority of customer that are day pass or single trip are tourist, however in weekend we can see a slight surge which we can assume it came from local because they use it as a leisure for the weekend.\n",
    "\n",
    "- Since its kind of waste to convert a tourist into subscriber that stay for less than 30 days. We focus on how convert the people who lives there that uses the bike on weekend, hence we can create a monthly or annual package just for weekend to convert the remaining customer.\n",
    "\n",
    "- There is a decline and rise based on the annual season, because there's a significant drop during the winter, its advisable that there are winter discount for subscriber to increase the number of subscriber\n",
    "\n",
    "- Ensuring that no station has empty slots is one of the important issue, which means there should always be a bike in that station, this can be done by transfering some of the bike in less frequent station to the most frequent one, in this case the 10 bottom station should transfer about 80% or more bike to other station that are needed\n",
    "\n"
   ]
  },
  {
   "cell_type": "code",
   "execution_count": null,
   "metadata": {},
   "outputs": [],
   "source": [
    "df.fillna()"
   ]
  },
  {
   "cell_type": "code",
   "execution_count": null,
   "metadata": {},
   "outputs": [],
   "source": []
  },
  {
   "cell_type": "code",
   "execution_count": null,
   "metadata": {},
   "outputs": [],
   "source": []
  }
 ],
 "metadata": {
  "kernelspec": {
   "display_name": "Python 3",
   "language": "python",
   "name": "python3"
  },
  "language_info": {
   "codemirror_mode": {
    "name": "ipython",
    "version": 3
   },
   "file_extension": ".py",
   "mimetype": "text/x-python",
   "name": "python",
   "nbconvert_exporter": "python",
   "pygments_lexer": "ipython3",
   "version": "3.7.3"
  }
 },
 "nbformat": 4,
 "nbformat_minor": 2
}
